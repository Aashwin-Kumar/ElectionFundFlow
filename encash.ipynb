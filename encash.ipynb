{
 "cells": [
  {
   "cell_type": "code",
   "execution_count": 52,
   "metadata": {},
   "outputs": [],
   "source": [
    "import pandas as pd\n",
    "import numpy as py\n",
    "import matplotlib.pyplot as plt"
   ]
  },
  {
   "cell_type": "code",
   "execution_count": 53,
   "metadata": {},
   "outputs": [],
   "source": [
    "bond_buyer = pd.read_csv('PurchaseData.csv')\n",
    "encash = pd.read_csv('EncashmentData.csv')"
   ]
  },
  {
   "cell_type": "code",
   "execution_count": 3,
   "metadata": {},
   "outputs": [
    {
     "name": "stdout",
     "output_type": "stream",
     "text": [
      "<class 'pandas.core.frame.DataFrame'>\n",
      "RangeIndex: 1316 entries, 0 to 1315\n",
      "Data columns (total 3 columns):\n",
      " #   Column          Non-Null Count  Dtype \n",
      "---  ------          --------------  ----- \n",
      " 0   Purchaser Name  1316 non-null   object\n",
      " 1   Denomination    1316 non-null   int64 \n",
      " 2   Type            1316 non-null   object\n",
      "dtypes: int64(1), object(2)\n",
      "memory usage: 31.0+ KB\n"
     ]
    }
   ],
   "source": [
    "bond_buyer.info()"
   ]
  },
  {
   "cell_type": "code",
   "execution_count": 7,
   "metadata": {},
   "outputs": [
    {
     "name": "stdout",
     "output_type": "stream",
     "text": [
      "<class 'pandas.core.frame.DataFrame'>\n",
      "RangeIndex: 20421 entries, 0 to 20420\n",
      "Data columns (total 3 columns):\n",
      " #   Column                       Non-Null Count  Dtype \n",
      "---  ------                       --------------  ----- \n",
      " 0   Date of\n",
      " Encashment          20421 non-null  object\n",
      " 1   Name of the Political Party  20421 non-null  object\n",
      " 2   Denomination                 20421 non-null  int64 \n",
      "dtypes: int64(1), object(2)\n",
      "memory usage: 478.7+ KB\n"
     ]
    }
   ],
   "source": [
    "encash.info()"
   ]
  },
  {
   "cell_type": "code",
   "execution_count": null,
   "metadata": {},
   "outputs": [],
   "source": []
  },
  {
   "cell_type": "code",
   "execution_count": 13,
   "metadata": {},
   "outputs": [
    {
     "data": {
      "text/html": [
       "<div>\n",
       "<style scoped>\n",
       "    .dataframe tbody tr th:only-of-type {\n",
       "        vertical-align: middle;\n",
       "    }\n",
       "\n",
       "    .dataframe tbody tr th {\n",
       "        vertical-align: top;\n",
       "    }\n",
       "\n",
       "    .dataframe thead th {\n",
       "        text-align: right;\n",
       "    }\n",
       "</style>\n",
       "<table border=\"1\" class=\"dataframe\">\n",
       "  <thead>\n",
       "    <tr style=\"text-align: right;\">\n",
       "      <th></th>\n",
       "      <th>Denomination</th>\n",
       "    </tr>\n",
       "  </thead>\n",
       "  <tbody>\n",
       "    <tr>\n",
       "      <th>count</th>\n",
       "      <td>1.316000e+03</td>\n",
       "    </tr>\n",
       "    <tr>\n",
       "      <th>mean</th>\n",
       "      <td>9.236712e+07</td>\n",
       "    </tr>\n",
       "    <tr>\n",
       "      <th>std</th>\n",
       "      <td>4.785698e+08</td>\n",
       "    </tr>\n",
       "    <tr>\n",
       "      <th>min</th>\n",
       "      <td>1.000000e+03</td>\n",
       "    </tr>\n",
       "    <tr>\n",
       "      <th>25%</th>\n",
       "      <td>2.500000e+06</td>\n",
       "    </tr>\n",
       "    <tr>\n",
       "      <th>50%</th>\n",
       "      <td>1.250000e+07</td>\n",
       "    </tr>\n",
       "    <tr>\n",
       "      <th>75%</th>\n",
       "      <td>5.000000e+07</td>\n",
       "    </tr>\n",
       "    <tr>\n",
       "      <th>max</th>\n",
       "      <td>1.208000e+10</td>\n",
       "    </tr>\n",
       "  </tbody>\n",
       "</table>\n",
       "</div>"
      ],
      "text/plain": [
       "       Denomination\n",
       "count  1.316000e+03\n",
       "mean   9.236712e+07\n",
       "std    4.785698e+08\n",
       "min    1.000000e+03\n",
       "25%    2.500000e+06\n",
       "50%    1.250000e+07\n",
       "75%    5.000000e+07\n",
       "max    1.208000e+10"
      ]
     },
     "execution_count": 13,
     "metadata": {},
     "output_type": "execute_result"
    }
   ],
   "source": [
    "bond_buyer.describe()"
   ]
  },
  {
   "cell_type": "code",
   "execution_count": 66,
   "metadata": {},
   "outputs": [
    {
     "data": {
      "text/html": [
       "<div>\n",
       "<style scoped>\n",
       "    .dataframe tbody tr th:only-of-type {\n",
       "        vertical-align: middle;\n",
       "    }\n",
       "\n",
       "    .dataframe tbody tr th {\n",
       "        vertical-align: top;\n",
       "    }\n",
       "\n",
       "    .dataframe thead th {\n",
       "        text-align: right;\n",
       "    }\n",
       "</style>\n",
       "<table border=\"1\" class=\"dataframe\">\n",
       "  <thead>\n",
       "    <tr style=\"text-align: right;\">\n",
       "      <th></th>\n",
       "      <th>Denomination</th>\n",
       "    </tr>\n",
       "  </thead>\n",
       "  <tbody>\n",
       "    <tr>\n",
       "      <th>count</th>\n",
       "      <td>2.042100e+04</td>\n",
       "    </tr>\n",
       "    <tr>\n",
       "      <th>mean</th>\n",
       "      <td>6.252921e+06</td>\n",
       "    </tr>\n",
       "    <tr>\n",
       "      <th>std</th>\n",
       "      <td>4.576321e+06</td>\n",
       "    </tr>\n",
       "    <tr>\n",
       "      <th>min</th>\n",
       "      <td>1.000000e+03</td>\n",
       "    </tr>\n",
       "    <tr>\n",
       "      <th>25%</th>\n",
       "      <td>1.000000e+06</td>\n",
       "    </tr>\n",
       "    <tr>\n",
       "      <th>50%</th>\n",
       "      <td>1.000000e+07</td>\n",
       "    </tr>\n",
       "    <tr>\n",
       "      <th>75%</th>\n",
       "      <td>1.000000e+07</td>\n",
       "    </tr>\n",
       "    <tr>\n",
       "      <th>max</th>\n",
       "      <td>1.000000e+07</td>\n",
       "    </tr>\n",
       "  </tbody>\n",
       "</table>\n",
       "</div>"
      ],
      "text/plain": [
       "       Denomination\n",
       "count  2.042100e+04\n",
       "mean   6.252921e+06\n",
       "std    4.576321e+06\n",
       "min    1.000000e+03\n",
       "25%    1.000000e+06\n",
       "50%    1.000000e+07\n",
       "75%    1.000000e+07\n",
       "max    1.000000e+07"
      ]
     },
     "execution_count": 66,
     "metadata": {},
     "output_type": "execute_result"
    }
   ],
   "source": [
    "encash.describe()"
   ]
  },
  {
   "cell_type": "code",
   "execution_count": null,
   "metadata": {},
   "outputs": [],
   "source": []
  },
  {
   "cell_type": "code",
   "execution_count": 67,
   "metadata": {},
   "outputs": [
    {
     "data": {
      "text/plain": [
       "(1316, 3)"
      ]
     },
     "execution_count": 67,
     "metadata": {},
     "output_type": "execute_result"
    }
   ],
   "source": [
    "bond_buyer.shape"
   ]
  },
  {
   "cell_type": "code",
   "execution_count": 11,
   "metadata": {},
   "outputs": [
    {
     "data": {
      "text/plain": [
       "(20421, 3)"
      ]
     },
     "execution_count": 11,
     "metadata": {},
     "output_type": "execute_result"
    }
   ],
   "source": [
    "encash.shape"
   ]
  },
  {
   "cell_type": "code",
   "execution_count": null,
   "metadata": {},
   "outputs": [],
   "source": []
  },
  {
   "cell_type": "code",
   "execution_count": 12,
   "metadata": {},
   "outputs": [
    {
     "data": {
      "text/plain": [
       "Index(['Purchaser Name', 'Denomination', 'Type'], dtype='object')"
      ]
     },
     "execution_count": 12,
     "metadata": {},
     "output_type": "execute_result"
    }
   ],
   "source": [
    "bond_buyer.columns"
   ]
  },
  {
   "cell_type": "code",
   "execution_count": 13,
   "metadata": {},
   "outputs": [
    {
     "data": {
      "text/plain": [
       "Index(['Date of\\n Encashment', 'Name of the Political Party', 'Denomination'], dtype='object')"
      ]
     },
     "execution_count": 13,
     "metadata": {},
     "output_type": "execute_result"
    }
   ],
   "source": [
    "encash.columns"
   ]
  },
  {
   "cell_type": "code",
   "execution_count": null,
   "metadata": {},
   "outputs": [],
   "source": []
  },
  {
   "cell_type": "code",
   "execution_count": 69,
   "metadata": {},
   "outputs": [
    {
     "data": {
      "text/html": [
       "<div>\n",
       "<style scoped>\n",
       "    .dataframe tbody tr th:only-of-type {\n",
       "        vertical-align: middle;\n",
       "    }\n",
       "\n",
       "    .dataframe tbody tr th {\n",
       "        vertical-align: top;\n",
       "    }\n",
       "\n",
       "    .dataframe thead th {\n",
       "        text-align: right;\n",
       "    }\n",
       "</style>\n",
       "<table border=\"1\" class=\"dataframe\">\n",
       "  <thead>\n",
       "    <tr style=\"text-align: right;\">\n",
       "      <th></th>\n",
       "      <th>Purchaser Name</th>\n",
       "      <th>Denomination</th>\n",
       "      <th>Type</th>\n",
       "    </tr>\n",
       "  </thead>\n",
       "  <tbody>\n",
       "    <tr>\n",
       "      <th>0</th>\n",
       "      <td>PVR LTD</td>\n",
       "      <td>20000000</td>\n",
       "      <td>Firm</td>\n",
       "    </tr>\n",
       "    <tr>\n",
       "      <th>1</th>\n",
       "      <td>SK INFRA</td>\n",
       "      <td>400000</td>\n",
       "      <td>Firm</td>\n",
       "    </tr>\n",
       "    <tr>\n",
       "      <th>2</th>\n",
       "      <td>KRBL LTD</td>\n",
       "      <td>2000000</td>\n",
       "      <td>Firm</td>\n",
       "    </tr>\n",
       "    <tr>\n",
       "      <th>3</th>\n",
       "      <td>GHCL LTD</td>\n",
       "      <td>5000000</td>\n",
       "      <td>Firm</td>\n",
       "    </tr>\n",
       "    <tr>\n",
       "      <th>4</th>\n",
       "      <td>SHAHIEXP</td>\n",
       "      <td>30000000</td>\n",
       "      <td>Firm</td>\n",
       "    </tr>\n",
       "  </tbody>\n",
       "</table>\n",
       "</div>"
      ],
      "text/plain": [
       "  Purchaser Name  Denomination  Type\n",
       "0        PVR LTD      20000000  Firm\n",
       "1       SK INFRA        400000  Firm\n",
       "2       KRBL LTD       2000000  Firm\n",
       "3       GHCL LTD       5000000  Firm\n",
       "4       SHAHIEXP      30000000  Firm"
      ]
     },
     "execution_count": 69,
     "metadata": {},
     "output_type": "execute_result"
    }
   ],
   "source": [
    "bond_buyer.head()"
   ]
  },
  {
   "cell_type": "code",
   "execution_count": 70,
   "metadata": {},
   "outputs": [
    {
     "data": {
      "text/html": [
       "<div>\n",
       "<style scoped>\n",
       "    .dataframe tbody tr th:only-of-type {\n",
       "        vertical-align: middle;\n",
       "    }\n",
       "\n",
       "    .dataframe tbody tr th {\n",
       "        vertical-align: top;\n",
       "    }\n",
       "\n",
       "    .dataframe thead th {\n",
       "        text-align: right;\n",
       "    }\n",
       "</style>\n",
       "<table border=\"1\" class=\"dataframe\">\n",
       "  <thead>\n",
       "    <tr style=\"text-align: right;\">\n",
       "      <th></th>\n",
       "      <th>Date of\\n Encashment</th>\n",
       "      <th>Name of the Political Party</th>\n",
       "      <th>Denomination</th>\n",
       "    </tr>\n",
       "  </thead>\n",
       "  <tbody>\n",
       "    <tr>\n",
       "      <th>0</th>\n",
       "      <td>2019-04-12</td>\n",
       "      <td>ALL INDIA ANNA DRAVIDA MUNNETRA KAZHAGAM</td>\n",
       "      <td>1000000</td>\n",
       "    </tr>\n",
       "    <tr>\n",
       "      <th>1</th>\n",
       "      <td>2019-04-12</td>\n",
       "      <td>ALL INDIA ANNA DRAVIDA MUNNETRA KAZHAGAM</td>\n",
       "      <td>1000000</td>\n",
       "    </tr>\n",
       "    <tr>\n",
       "      <th>2</th>\n",
       "      <td>2019-04-12</td>\n",
       "      <td>ALL INDIA ANNA DRAVIDA MUNNETRA KAZHAGAM</td>\n",
       "      <td>10000000</td>\n",
       "    </tr>\n",
       "    <tr>\n",
       "      <th>3</th>\n",
       "      <td>2019-04-12</td>\n",
       "      <td>ALL INDIA ANNA DRAVIDA MUNNETRA KAZHAGAM</td>\n",
       "      <td>1000000</td>\n",
       "    </tr>\n",
       "    <tr>\n",
       "      <th>4</th>\n",
       "      <td>2019-04-12</td>\n",
       "      <td>ALL INDIA ANNA DRAVIDA MUNNETRA KAZHAGAM</td>\n",
       "      <td>1000000</td>\n",
       "    </tr>\n",
       "  </tbody>\n",
       "</table>\n",
       "</div>"
      ],
      "text/plain": [
       "  Date of\\n Encashment               Name of the Political Party  Denomination\n",
       "0           2019-04-12  ALL INDIA ANNA DRAVIDA MUNNETRA KAZHAGAM       1000000\n",
       "1           2019-04-12  ALL INDIA ANNA DRAVIDA MUNNETRA KAZHAGAM       1000000\n",
       "2           2019-04-12  ALL INDIA ANNA DRAVIDA MUNNETRA KAZHAGAM      10000000\n",
       "3           2019-04-12  ALL INDIA ANNA DRAVIDA MUNNETRA KAZHAGAM       1000000\n",
       "4           2019-04-12  ALL INDIA ANNA DRAVIDA MUNNETRA KAZHAGAM       1000000"
      ]
     },
     "execution_count": 70,
     "metadata": {},
     "output_type": "execute_result"
    }
   ],
   "source": [
    "encash.head()"
   ]
  },
  {
   "cell_type": "markdown",
   "metadata": {},
   "source": [
    "# 1 Bond Buyer Analysis"
   ]
  },
  {
   "cell_type": "markdown",
   "metadata": {},
   "source": [
    "**Are there any missing names or information in the data?**"
   ]
  },
  {
   "cell_type": "code",
   "execution_count": 7,
   "metadata": {},
   "outputs": [
    {
     "data": {
      "text/plain": [
       "Purchaser Name    0\n",
       "Denomination      0\n",
       "Type              0\n",
       "dtype: int64"
      ]
     },
     "execution_count": 7,
     "metadata": {},
     "output_type": "execute_result"
    }
   ],
   "source": [
    "bond_buyer.isnull().sum()"
   ]
  },
  {
   "cell_type": "markdown",
   "metadata": {},
   "source": [
    "******************************************************************************************************"
   ]
  },
  {
   "cell_type": "markdown",
   "metadata": {},
   "source": [
    "**Total Unique Count of Bond Buyers**"
   ]
  },
  {
   "cell_type": "code",
   "execution_count": 71,
   "metadata": {},
   "outputs": [
    {
     "data": {
      "text/plain": [
       "1314"
      ]
     },
     "execution_count": 71,
     "metadata": {},
     "output_type": "execute_result"
    }
   ],
   "source": [
    "unique_buyer = bond_buyer['Purchaser Name'].unique().tolist()\n",
    "len(unique_buyer)"
   ]
  },
  {
   "cell_type": "code",
   "execution_count": 72,
   "metadata": {},
   "outputs": [
    {
     "data": {
      "text/plain": [
       "['PVR LTD',\n",
       " 'SK INFRA',\n",
       " 'KRBL LTD',\n",
       " 'GHCL LTD',\n",
       " 'SHAHIEXP',\n",
       " 'MSPL LTD',\n",
       " 'CEAT LTD',\n",
       " 'G S ISPAT',\n",
       " 'CIPLA LTD',\n",
       " 'RICHA & CO',\n",
       " 'S K TRADERS',\n",
       " 'CYBER HOMES',\n",
       " 'GENUS POWER',\n",
       " 'ITC LIMITED',\n",
       " 'UPL LIMITED',\n",
       " 'VEDANTA LTD',\n",
       " 'NCC LIMITED',\n",
       " 'CREATIVE LLP',\n",
       " 'TPK PARTNERS',\n",
       " 'WPIL LIMITED',\n",
       " 'PCBL LIMITED',\n",
       " 'M R F LIMITED',\n",
       " 'JAY USHIN LTD',\n",
       " 'SAN LOGISTICS',\n",
       " 'DR HEALTHTECH',\n",
       " 'SR DEVELOPERS',\n",
       " 'NIRMA LIMITED',\n",
       " 'LUPIN LIMITED',\n",
       " 'CIPLA LIMITED',\n",
       " 'MADANLAL LTD.',\n",
       " 'INDUS ORGANICS',\n",
       " 'KB DEALERS LLP',\n",
       " 'KM DEALERS LLP',\n",
       " 'BM DEALERS LLP',\n",
       " 'GOA CARBON LTD',\n",
       " 'SRI DEVELOPERS',\n",
       " 'J B ENTERPRISE',\n",
       " 'DIVIT SECURITY',\n",
       " 'SLRV HOMES LLP',\n",
       " 'CASTAMET WORKS',\n",
       " 'C R ASSOCIATES',\n",
       " 'BIOVET PVT LTD',\n",
       " 'MICRO LABS LTD',\n",
       " 'ARVIND LIMITED',\n",
       " 'PPR M SAND LLP',\n",
       " 'CYIENT LIMITED',\n",
       " 'BAJAJ AUTO LTD',\n",
       " 'HONOUR LAB LTD',\n",
       " 'SIDDHI TRADING',\n",
       " 'MS S N MOHANTY',\n",
       " 'RAJ KAMAL DRUGS',\n",
       " 'KARTIKEYA INFRA',\n",
       " 'S K TRADING CO.',\n",
       " 'K M DEALERS LLP',\n",
       " 'GANDHI BROTHERS',\n",
       " 'M/S KAMAL ISPAT',\n",
       " 'DINESH PROJECTS',\n",
       " 'AVON CYCLES LTD',\n",
       " 'ECL FINANCE LTD',\n",
       " 'ANANT UDYOG LLP',\n",
       " 'TRIDENT LIMITED',\n",
       " 'J K CEMENT LTD.',\n",
       " 'HEENA STEEL LLP',\n",
       " 'DCM SHRIRAM LTD',\n",
       " 'J.K.CEMENT LTD.',\n",
       " 'VEDANTA LIMITED',\n",
       " 'S G AGARWAL & CO',\n",
       " 'WOLKEM INDIA LTD',\n",
       " 'JK PAPER LIMITED',\n",
       " 'ANJANI ROADLINES',\n",
       " 'SPICEJET LIMITED',\n",
       " 'CYZACHEM PVT LTD',\n",
       " 'TEXPORT CREATION',\n",
       " 'L S DAVAR AND CO',\n",
       " 'ICONICA PROJECTS',\n",
       " 'INOX LEISURE LTD',\n",
       " 'DAAWAT FOODS LTD',\n",
       " 'ARS COATED STEEL',\n",
       " 'ELITE DEVELOPERS',\n",
       " 'AIS DISTRIBUTION',\n",
       " 'CAPE TRADING LLP',\n",
       " 'SHREE CEMENT LTD',\n",
       " 'FORCE MOTORS LTD',\n",
       " 'WELSPUN CORP LTD',\n",
       " 'NATCO PHARMA LTD',\n",
       " 'R R KABEL LIMITED',\n",
       " 'UTSAV ENCLAVE LLP',\n",
       " 'OCEAN SPARKLE LTD',\n",
       " 'AVIGHNA SOLUTIONS',\n",
       " 'MYRIAD DEVELOPERS',\n",
       " 'SECURE METERS LTD',\n",
       " 'HITESH D SHAH HUF',\n",
       " 'JANAM ENTERPRISES',\n",
       " 'M M YARNS PVT LTD',\n",
       " 'MINDA KYORAKU LTD',\n",
       " 'OM VINCOM PVT LTD',\n",
       " 'HUB POWER COMPANY',\n",
       " 'TECH MAHINDRA LTD',\n",
       " '14 REELS PLUS LLP',\n",
       " 'ASHOKA DEVELOPERS',\n",
       " 'SHADOWFAX TRADERS',\n",
       " 'SEI VENUS PVT LTD',\n",
       " 'R N CONSTRUCTIONS',\n",
       " 'MTC ISPAT PVT LTD',\n",
       " 'KAL RADIO LIMITED',\n",
       " 'INDIA GLYCOLS LTD',\n",
       " 'OM CREDIT PVT LTD',\n",
       " 'ARVINDINFRACONLLP',\n",
       " 'AJANTA PHARMA LTD',\n",
       " 'UM CABLES LIMITED',\n",
       " 'SPML OM METALS JV',\n",
       " 'VIVA HIGHWAYS LTD',\n",
       " 'NANDI ENTERPRISES',\n",
       " 'SKP MERCHANTS LLP',\n",
       " 'WONDER CEMENT LTD',\n",
       " 'TORRENT POWER LTD',\n",
       " 'BAJAJ FINANCE LTD',\n",
       " 'HES INFRA PVT LTD',\n",
       " 'RASHMI CEMENT LTD',\n",
       " 'RUNGTA SONS P LTD',\n",
       " 'EVEREST ENTERPRISE',\n",
       " 'CHOUDHARY GARMENTS',\n",
       " 'V BALAVEERIAH SONS',\n",
       " 'OM ENCLAVE PVT LTD',\n",
       " 'BOSE CONSTRUCTIONS',\n",
       " 'MEENU CREATION LLP',\n",
       " 'J S K HOTELS P LTD',\n",
       " 'SEI ARUSHI PVT LTD',\n",
       " 'VASUDHA DEVELOPERS',\n",
       " 'B2C CONSULTING LLP',\n",
       " 'IRA BLOSSOM FIELDS',\n",
       " 'VASAVI AVENUES LLP',\n",
       " 'MOHIT MINERALS LTD',\n",
       " 'HONOUR LAB LIMITED',\n",
       " 'HINDUSTAN TEXTILES',\n",
       " 'J K CEMENT LIMITED',\n",
       " 'GOODLUCK INDIA LTD',\n",
       " 'KCR ENTERPRISE LLP',\n",
       " 'DERIVE INVESTMENTS',\n",
       " 'EVEY TRANS PVT LTD',\n",
       " 'MICRO LABS LIMITED',\n",
       " 'VACMETINDIALIMITED',\n",
       " 'SANDEEP AUTO LINES',\n",
       " 'NARA CONSTRUCTIONS',\n",
       " 'GVPR ENGINEERS LTD',\n",
       " 'FINOLEX CABLES LTD',\n",
       " 'KAYPEE ENTERPRISES',\n",
       " 'JINDAL SAW LIMITED',\n",
       " 'CRESCENT POWER LTD',\n",
       " 'TULIP RESIDENCY LLP',\n",
       " 'MIRANIA COMPLEX LLP',\n",
       " 'HEALTHTECH SOLUTION',\n",
       " 'DEVASHRI NIRMAN LLP',\n",
       " 'A B C INDIA LIMITED',\n",
       " 'ARIHANT ENTERPRISES',\n",
       " 'RMC SWITCHGEARS LTD',\n",
       " 'JNS INSTRUMENTS LTD',\n",
       " 'BHASWINI DEVELOPERS',\n",
       " 'ALLANA COLD STORAGE',\n",
       " 'R B DEALERS PVT LTD',\n",
       " 'NANGALIA ASSOCIATES',\n",
       " 'SEI DIAMOND PVT LTD',\n",
       " 'MUTHOOT FINANCE LTD',\n",
       " 'MARAL OVERSEAS LTD.',\n",
       " 'PRAGATI ENTERPRISES',\n",
       " 'G R INFRAPROJECTS L',\n",
       " 'DCM SHRIRAM LIMITED',\n",
       " 'CAPSTAN TRADING LLP',\n",
       " 'ULTRATECHCEMENTSLTD',\n",
       " 'MAATHA PROJECTS LLP',\n",
       " 'HETERO LABS LIMITED',\n",
       " 'RASHMI METALIKS LTD',\n",
       " 'MKJ ENTERPRISES LTD',\n",
       " 'MANITHEJ ENTERPRISES',\n",
       " 'INDUS INDUSTRIAL TEC',\n",
       " 'KISHAN M AGARWAL HUF',\n",
       " 'ANGEL FIBERS LIMITED',\n",
       " 'G M HOLDINGS PVT LTD',\n",
       " 'C MACKERTICH PVT LTD',\n",
       " 'MIRANIA BUILDERS LLP',\n",
       " 'BANSAL UDYOG PRIVATE',\n",
       " 'SARD INDIA PRIVATE L',\n",
       " 'COALSALE COMPANY LTD',\n",
       " 'TEGA INDUSTRIES LIMITED',\n",
       " 'SIDDHARTH DEVELOPERS',\n",
       " 'FRIGERIO CONSERVA AL',\n",
       " 'AALAYA CONSTRUCTIONS',\n",
       " 'NORTHERN SPIRITS LTD',\n",
       " 'SPECO INFRASTRUCTURE',\n",
       " 'SHREE CEMENT LIMITED',\n",
       " 'ZUVAN ENERGY PVT LTD',\n",
       " 'THE ANUP ENGINEERING',\n",
       " 'SNS CLOTHING PVT LTD',\n",
       " 'MSN ORGANICS PVT LTD',\n",
       " 'SAROSH ALIZAH MINING',\n",
       " 'BIGC MOBILES PVT LTD',\n",
       " 'ALLANASONS PRIVATE LIMITED',\n",
       " 'D R POLYMERS PVT LTD',\n",
       " 'APOLLO TYRES LIMITED',\n",
       " 'AUROBINDO PHARMA LTD',\n",
       " 'ARDENT STEEL LIMITED',\n",
       " 'MANU VYAPAR (P) LTD.',\n",
       " 'BRICKS INFRATECH LLP',\n",
       " 'BIOLOGICAL E LIMITED',\n",
       " 'STOCKPATHADVISORSLLP',\n",
       " 'ASKUS LOGISTICS PRIV',\n",
       " 'BESSEGGENINFOTECHLLP',\n",
       " 'HARDESH ORES PVT LTD',\n",
       " 'NATCO PHARMA LIMITED',\n",
       " 'WELSPUN CORP LIMITED',\n",
       " 'HETERO DRUGS LIMITED',\n",
       " 'JINDAL STAINLESS LTD',\n",
       " 'NEXG DEVICES PVT LTD',\n",
       " 'PHL FINIVEST PVT LTD',\n",
       " 'B M A MERCHANDISE LLP',\n",
       " 'SHINE COTSPIN PVT LTD',\n",
       " 'SRI YANTRA ASSOCIATES',\n",
       " 'SUDSAR BUILDSPACE LLP',\n",
       " 'NATURAL RESIDENCY LLP',\n",
       " 'SAN BEVERAGES PVT LTD',\n",
       " 'YASHODA SUPER SPECIALITY HOSPITAL',\n",
       " 'RITESH NIRMAN PVT LTD',\n",
       " 'LAKSHMI NIWAS MITTAL',\n",
       " 'LEVOC FINANCE PVT LTD',\n",
       " 'K M A COMMODITIES LLP',\n",
       " 'VIDITVA CONSTRUCTIONS',\n",
       " 'ABIS AGROTECH PVT LTD',\n",
       " 'TARGET VINCOM PVT LTD',\n",
       " 'MINDARIKA PRIVATE LTD',\n",
       " 'CANDY SPIRITS PVT LTD',\n",
       " 'SWETA ESTATES PVT LTD',\n",
       " 'GOLDSTONE CEMENTS LTD',\n",
       " 'DIVYESH POWER PVT LTD',\n",
       " 'SPECO INFRASTRUCTURES',\n",
       " 'SAGAR CEMENTS LIMITED',\n",
       " 'DESCENT BUILDWELL LLP',\n",
       " 'VAMSIRAM BUILDERS LLP',\n",
       " 'SOHINI DEVELOPERS LLP',\n",
       " 'RPSG VENTURES LIMITED',\n",
       " 'ABHIJIT INTERNATIONAL',\n",
       " 'SOUTH ASIA FM LIMITED',\n",
       " 'THE INDIA CEMENTS LTD',\n",
       " 'INOX AIR PRODUCTS LTD',\n",
       " 'EAGLE INFRA INDIA LTD',\n",
       " 'YOGA BUILDERS PVT LTD',\n",
       " 'WELSPUN INDIA LIMITED',\n",
       " 'KNR CONSTRUCTIONS LTD',\n",
       " 'BEST AGROLIFE LIMITED',\n",
       " 'ABNLINVESTMENTLIMITED',\n",
       " 'TERACON BUILDTECH LLP',\n",
       " 'RAY CONSTRUCTIONS LTD',\n",
       " 'VARDHMAN TEXTILES LTD',\n",
       " 'HERO MOTOCORP LIMITED',\n",
       " 'K RAHEJA CORP PVT LTD',\n",
       " 'GRASIM INDUSTRIES LTD',\n",
       " 'TORRENT POWER LIMITED',\n",
       " 'BHARTI AIRTEL LIMITED',\n",
       " 'HALDIA ENERGY LIMITED',\n",
       " 'MRS LILA DEVI SULTANIA',\n",
       " 'SALASAR SAREES PVT LTD',\n",
       " 'SULA VINEYARDS PVT LTD',\n",
       " 'RAMOLI DEALERS PVT LTD',\n",
       " 'MOTOWN TRADING PVT LTD',\n",
       " 'SPEED BUSINESS PVT LTD',\n",
       " 'RITESH ENCLAVE PVT LTD',\n",
       " 'FAMY STERI PVT LIMITED',\n",
       " 'BUILDOX DEVELOPERS LLP',\n",
       " 'UTKARSH SFATIK LIMITED',\n",
       " 'HIND TERMINALS PVT LTD',\n",
       " 'CHITRAKUT HOLDINGS LTD',\n",
       " 'RAIPUR BOTLING COMPANY',\n",
       " 'JBM INDUSTRIES LIMITED',\n",
       " 'AASHMAN ENERGY PVT LTD',\n",
       " 'KISHAN F.L. BOND HOUSE',\n",
       " 'DASAMI LAB PRIVATE LTD',\n",
       " 'BMW INFRASTRUCTURE LLP',\n",
       " 'TRANSWAYS EXIM PVT LTD',\n",
       " 'PIRAMAL PHARMA LIMITED',\n",
       " 'GORJA STEEL PROCESSORS',\n",
       " 'GRANULES INDIA LIMITED',\n",
       " 'PRB SECURITIES PVT LTD',\n",
       " 'OMKAR VENTURES PVT LTD',\n",
       " 'BESSEGGEN INFOTECH LLP',\n",
       " 'LAURELSECURITIESPVTLTD',\n",
       " 'ARROW PROJECTS PVT LTD',\n",
       " 'SHANKARRESOURCESPVTLTD',\n",
       " 'WELSPUN LIVING LIMITED',\n",
       " 'TRIDENTCHEMPHARLIMITED',\n",
       " 'MNMEDIAVENTURESPVTL108',\n",
       " 'RADICO KHAITAN LIMITED',\n",
       " 'JMC PROJECTS INDIA LTD',\n",
       " 'AXIS CLINICALS LIMITED',\n",
       " 'PATEL ENGINEERING LTD.',\n",
       " 'MOHIT MINERALS LIMITED',\n",
       " 'AJAY METALLOYS PVT LTD',\n",
       " 'SELMAR LAB PRIVATE LTD',\n",
       " 'GOODLUCK INDIA LIMITED',\n",
       " 'APL HEALTHCARE LIMITED',\n",
       " 'HINDYS LAB PRIVATE LTD',\n",
       " 'HAZELO LAB PRIVATE LTD',\n",
       " 'KITEX GARMENTS LIMITED',\n",
       " 'BKC PROPERTIES PVT LTD',\n",
       " 'MANKIND PHARMA LIMITED',\n",
       " 'PRATHMESH CONSTRUCTION',\n",
       " 'MSN PHARMACHEM PVT LTD',\n",
       " 'SAFAL GOYAL REALTY LLP',\n",
       " 'SKYWORLD DEVELOPERS LLP',\n",
       " 'M/SGAURAV INTERNATIONAL',\n",
       " 'JIT INDUSTRIAL PARK LLP',\n",
       " 'S R C CHEMICALS PVT LTD',\n",
       " 'GANGES JUTE PRIVATE LTD',\n",
       " 'ADIT BUILD WELL PVT LTD',\n",
       " 'APOLLO VINTRADE PVT LTD',\n",
       " 'PRIME SALES CORPORATION',\n",
       " 'SHIVALIK PRINTS LIMITED',\n",
       " 'GUWAHATI CARBON LIMITED',\n",
       " 'AMAR SECURITIES PVT LTD',\n",
       " 'VAMSIRAM DEVELOPERS LLP',\n",
       " 'ZENSAR TECHNOLOGIES LTD',\n",
       " 'NUVOCO VISTAS CORP. LTD',\n",
       " 'ANBEE CONSTRUCTIONS LLP',\n",
       " 'RITESH PROJECTS PVT LTD',\n",
       " 'BALU CEMENT CORPORATION',\n",
       " 'ASKUS LOGISTICS PVT LTD',\n",
       " 'ORRISA METALIKS PVT LTD',\n",
       " 'RANJIT BUILDCON LIMITED',\n",
       " 'KITEX CHILDRENSWEAR LTD',\n",
       " 'PIRAMAL ENTERPRISES LTD',\n",
       " 'BHARTI INFRATEL LIMITED',\n",
       " 'WELSPUN ENTERPRISES LTD',\n",
       " 'MISRILALL MINES PVT LTD',\n",
       " 'MOHAN STEEL CORPORATION',\n",
       " 'S D CORPORATION PVT LTD',\n",
       " 'MARUTI SUZUKI INDIA LTD',\n",
       " 'MAHINDRA & MAHINDRA LTD',\n",
       " 'MKJ ENTERPRISES LIMITED',\n",
       " 'DEMPO INDUSTRIES PVT LTD',\n",
       " 'CHARISMA COMBINES PVTLTD',\n",
       " 'PASURA AGRI SCIENCES LLP',\n",
       " 'NIRMALDEEP RESOURCES LTD',\n",
       " 'PASURA CROP CARE PVT LTD',\n",
       " 'FORTUNE METALIKS LIMITED',\n",
       " 'ARCHANA PROPERTIES P LTD',\n",
       " 'SOM DISTILLERIES PVT LTD',\n",
       " 'KARTHIKEYA CONSTRUCTIONS',\n",
       " 'LAXMIDAS VALLABHDAS ASMITA MERCHA',\n",
       " 'BELLWEY INTERNATIONAL CO',\n",
       " 'K R RAJA JT',\n",
       " 'SEI MIHIR ENERGY PVT LTD',\n",
       " 'LUMAX INDUSTRIES LIMITED',\n",
       " 'AIC VMR PROJECTS PVT LTD',\n",
       " 'WONDER MINERALS PVT LTD.',\n",
       " 'HORIZON MEDICAL SUPPLIES',\n",
       " 'PURULIA BOTTLING PVT LTD',\n",
       " 'PHILIPS CARBON BLACK LTD',\n",
       " 'HETERO BIOPHARMA LIMITED',\n",
       " 'GAJA ENGINEERING PVT LTD',\n",
       " 'MKK METAL SECTIONS P LTD',\n",
       " 'MSN LABORATORIES PVT LTD',\n",
       " 'DLF LUXURY HOMES LIMITED',\n",
       " 'ZYDUS HEALTHCARE LIMITED',\n",
       " 'SWAL CORPORATION LIMITED',\n",
       " 'BHARTI TELEMEDIA LIMITED',\n",
       " 'AUROBINDO PHARMA LIMITED',\n",
       " 'GPC FOODS PRIVATE LIMITED',\n",
       " 'GLOWING FERN HIGHRISE LLP',\n",
       " 'INDIA EXPOSITION MART LTD',\n",
       " 'PLUTO FINANCE PRIVATE LTD',\n",
       " 'MERLIN RECREATION PVT LTD',\n",
       " 'VPL OIL MARKETING PVT LTD',\n",
       " 'SUNSHINE FINTRADE PVT LTD',\n",
       " 'NIRANJAN LAL AND SONS HUF',\n",
       " 'HARINAGAR SUGAR MILLS LTD',\n",
       " 'SRI KARTHIKEYA DEVELOPERS',\n",
       " 'TADAS WIND ENERGY PVT LTD',\n",
       " 'PURI CONSTRUCTION PVT LTD',\n",
       " 'BAGDOGRA REALTORS PVT LTD',\n",
       " 'CRYSTAL TEA INDIA PVT LTD',\n",
       " 'SRIVAY INDUSTRIES LIMITED',\n",
       " 'NORTH EAST INFRA NET WORK',\n",
       " 'THE ANGUS COMPANY LIMITED',\n",
       " 'SEI BASKARA POWER PVT LTD',\n",
       " 'PUJA COAL PRIVATE LIMITED',\n",
       " 'BALRAMPUR CHINI MILLS LTD',\n",
       " 'BLUESTONE COMMODITIES LLP',\n",
       " 'KAMAL TRADING CORPORATION',\n",
       " 'JINDAL POLY FILMS LIMITED',\n",
       " 'VARDHMAN TEXTILES LIMITED',\n",
       " 'BALU IRON & STEEL COMPANY',\n",
       " 'PRESTIGE HABITAT VENTURES',\n",
       " 'KEYSTONE REALTORS PVT LTD',\n",
       " 'CASA MARIA PROPERTIES LLP',\n",
       " 'D S ENGINEERING WORKS LLP',\n",
       " 'BAIN GLOBAL RESOURCES LLP',\n",
       " 'INDERDEEP CONSTRUCTION CO',\n",
       " 'MAHALAXMI VIDYUT PVT.LTD.',\n",
       " 'TVS MOTOR COMPANY LIMITED',\n",
       " 'PRESTIGE PROJECTS PVT LTD',\n",
       " 'KEC INTERNATIONAL LIMITED',\n",
       " 'IPCA LABORATORIES LIMITED',\n",
       " 'JK LAKSHMI CEMENT LIMITED',\n",
       " 'ULTRA TECH CEMENT LIMITED',\n",
       " 'L7 HITECH PRIVATE LIMITED',\n",
       " 'LCCPROJECTSPRIVATELIMITED',\n",
       " 'THE RAMCO CEMENTS LIMITED',\n",
       " 'ESSEL MINING AND INDS LTD',\n",
       " 'PREMIER PLASTIC INDUSTRIES',\n",
       " 'S K SUPPLY CHAIN SOLUTIONS',\n",
       " 'RAVLON PROPERTIES PVT LTD.',\n",
       " 'RAMKRISHNA COTSPIN PVT LTD',\n",
       " 'SIAN INFRA AND REALCON LLP',\n",
       " 'PREM AGGARWAL AND SONS HUF',\n",
       " 'RAUNAK PROPERTIES PVT. LTD',\n",
       " 'SUNDRAM INDUSTRIES PVT LTD',\n",
       " 'JAI SUSPENSION SYSTEMS LLP',\n",
       " 'BANSHIDHAR VYAPAAR PVT LTD',\n",
       " 'PLUTO FINANCE PRIVATE LTD.',\n",
       " 'SRIVILAS HYDROTECH PVT LTD',\n",
       " 'PARIBARTAN ELECTORAL TRUST',\n",
       " 'DIVYASREE HOLDINGS PVT LTD',\n",
       " 'BHAGYANAGAR INFRA PROJECTS',\n",
       " 'SI AIR SPRINGS PRIVATE LTD',\n",
       " 'WONDER MARMOSTONES PVT LTD',\n",
       " 'BIRLAESTATESPRIVATELIMITED',\n",
       " 'TRANSWAYS EXIM PRIVATE LTD',\n",
       " 'MKK METAL SECTIONS PVT LTD',\n",
       " 'JMS MINING PRIVATE LIMITED',\n",
       " 'DANIKA TRADERS PRIVATE LTD',\n",
       " 'THE SUPREME INDUSTRIES LTD',\n",
       " 'RAHUL BHATIA',\n",
       " 'ST PATRICKS REALTY PVT LTD',\n",
       " 'NETINCON MARKETING PVT LTD',\n",
       " 'GALAXY C.S. BOTTLING PLANT',\n",
       " 'VERTEX VEGA DEVELOPERS LLP',\n",
       " 'SELMAR LAB PRIVATE LIMITED',\n",
       " 'CAPACITE INFRAPROJECTS LTD',\n",
       " 'MICHIGAN ENGINEERS PVT LTD',\n",
       " 'PEGASUS PROPERTIES PVT LTD',\n",
       " 'APCO INFRATECH PRIVATE LTD',\n",
       " 'MODERN ROAD MAKERS PVT LTD',\n",
       " 'ALKEM LABORATORIES LIMITED',\n",
       " 'INDER THAKURDAS JAISINGHANI',\n",
       " 'SHIRDI SAI ELECTRICALS LTD',\n",
       " 'SRI VIGNEWARA CONSTRUCTIONS',\n",
       " 'HIMANGA MERCANTILES PVT LTD',\n",
       " 'K B DEALERS PRIVATE LIMITED',\n",
       " 'FRESHBYTE BUILDTECH PVT LTD',\n",
       " 'VIPIN AGGARWAL AND SONS HUF',\n",
       " 'JUPITER MERCANTILES PVT LTD',\n",
       " 'DEEP IRON AND STEEL PVT LTD',\n",
       " 'RITESH REAL ESTATES PVT LTD',\n",
       " 'VARAS INTERNATIONAL PVT LTD',\n",
       " 'ELLISBRIDGE ESTATES PVT LTD',\n",
       " 'ARCEDGES BUILDING INDIA LLP',\n",
       " 'DYNAMIC CS BOTTLING PVT LTD',\n",
       " 'AMD ENGINEERING CONSULTANTS',\n",
       " 'SOM DISTILERIES PRIVATE LTD',\n",
       " 'SRI SIDDARTHA CONSTRUCTIONS',\n",
       " 'LPF SYSTEMS PRIVATE LIMITED',\n",
       " 'CHOWGLE AND COMPANY PVT LTD',\n",
       " 'SANOLA WIND PROJECT PVT LTD',\n",
       " 'RT RENEWABLE ENERGY PVT LTD',\n",
       " 'ASIAN AGRI GENETICS LIMITED',\n",
       " 'SWAMI FUELS PRIVATE LIMITED',\n",
       " 'M/SKJS AHLUWALIA',\n",
       " 'ROSHNI DEALMARK PRIVATE LTD',\n",
       " 'N A R INFRA PRIVATE LIMITED',\n",
       " 'PRESTIGE SOUTHCITY HOLDINGS',\n",
       " 'RAJESH MANNALAL AGRAWAL',\n",
       " 'INTERGLOBE AVIATION LIMITED',\n",
       " 'FAMY ENERGY PRIVATE LIMITED',\n",
       " 'SCAFFOLD PROPERTIES PVT LTD',\n",
       " 'SYLVANUS PROPERTIES LIMITED',\n",
       " 'ORISSA METALIKS PVT LIMITED',\n",
       " 'NAVAYUGA ENGINEERING CO LTD',\n",
       " 'BENGAL COKE COMPANY LIMITED',\n",
       " 'SUN PHARMA LABORATORIES LTD',\n",
       " 'RAHUL JAGANNATH JOSHI',\n",
       " 'HIMALAYAN ENDEAVOUR PVT LTD',\n",
       " 'BALU IRON AND STEEL COMPANY',\n",
       " 'HARMESH RAHUL JOSHI',\n",
       " 'CHANDER COMMERCIALS PVT LTD',\n",
       " 'PIRAMAL ENTERPRISES LIMITED',\n",
       " 'TORRENT PHARMACEUTICALS LTD',\n",
       " 'UNITED PHOSPHORUS INDIA LLP',\n",
       " 'DIVI S LABORATORIES LIMITED',\n",
       " \"DR.REDDY'S LABORATORIES LTD\",\n",
       " 'IFB AGRO INDUSTRIES LIMITED',\n",
       " 'BMW INFOTECH PRIVATE LIMITED',\n",
       " 'RAJU KUMAR SHARMA',\n",
       " 'SANDEEP KUMAR SULTANIA (JT1)',\n",
       " 'INNOCENT MERCHANDISE PVT LTD',\n",
       " 'SANVI SPINNING MILLS PVT LTD',\n",
       " 'SUDHA COMMERCIAL COMPANY LTD',\n",
       " 'SARITA HANDA EXPORTS PVT LTD',\n",
       " 'RANISATI MERCANTILES PVT LTD',\n",
       " 'NLB SERVICES PRIVATE LIMITED',\n",
       " 'JAI SUSPENSION SYSTEMS L L P',\n",
       " 'NATRAJ GOODS PRIVATE LIMITED',\n",
       " 'GANDHI SECURITIES INVESTMENT',\n",
       " 'CHOWGULE AND COMPANY PVT LTD',\n",
       " 'SEZ BIOTECH SERVICES PVT LTD',\n",
       " 'SNB MINERALS PRIVATE LIMITED',\n",
       " 'ZUVAN ENERGY PRIVATE LIMITED',\n",
       " 'GANGDARI HYDRO POWER PVT LTD',\n",
       " 'KANHA VINCOM PRIVATE LIMITED',\n",
       " 'ACHINTYA SOLAR POWER PVT LTD',\n",
       " 'SAURABH GUPTA',\n",
       " 'BSCPL INFRASTRUCTURE LIMITED',\n",
       " 'MEGA EQUITAS PRIVATE LIMITED',\n",
       " 'SRI KRISHNA INFRAASTRUCTURES',\n",
       " 'GREAT EASTERN STORES PVT LTD',\n",
       " 'RSLH AUTO SEAT TRIMS PVT LTD',\n",
       " 'THRIVENI EARTHMOVERS PVT LTD',\n",
       " 'D S ENGINEERING WORKSHOP LLP',\n",
       " 'IDEAL ROAD BUILDERS PVT.LTD.',\n",
       " 'SOMASILA SOLAR POWER LIMITED',\n",
       " 'GLENMARK PHARMACEUTICALS LTD',\n",
       " 'SELENE CONSTRUCTIONS LIMITED',\n",
       " 'ACE URBAN DEVELOPERS PVT LTD',\n",
       " 'BUTTA HOSPITALITIES PVT LTD',\n",
       " 'ABHINANDANSTOCKBROKINGPVTLTD',\n",
       " 'TVS MOBILITY PRIVATE LIMITED',\n",
       " 'HONEYWELL PROPERTIES PVT LTD',\n",
       " 'APARNA FARMS AND ESTATES LLP',\n",
       " 'JINDAL HOUSE',\n",
       " 'ANITA HEMANT SHAH',\n",
       " 'KIRAN MAZUMDAR SHAW',\n",
       " 'MODERN ROAD MAKERS PVT. LTD.',\n",
       " 'SANDEEP KHANNA AND ASSOCIATES',\n",
       " 'GRAUER AMP WEIL INDIA LIMITED',\n",
       " 'INDIAN VALVE CALCUTTA PVT LTD',\n",
       " 'SANDEEP AGGARWAL AND SONS HUF',\n",
       " 'SDS LOGISTICS PRIVATE LIMITED',\n",
       " 'S E BUILDERS AND REALTORS LTD',\n",
       " 'R K INFRACORP PRIVATE LIMITED',\n",
       " 'SWARNARETH MINERAL INDUSTRIES',\n",
       " 'HITECH SYSTEMS & SERVICES LTD',\n",
       " 'ANTIQUE INDIA PRIVATE LIMITED',\n",
       " 'DIVYESH POWER PRIVATE LIMITED',\n",
       " 'CHAYA REAL ESTATE PVT LIMITED',\n",
       " 'SUMAN ESTATES PRIVATE LIMITED',\n",
       " 'V M SALGAOCAR BROTHER PVT LTD',\n",
       " 'SENGUPTA AND SENGUPTA PVT LTD',\n",
       " 'SUNIL ENGINEERING AND SYSTEMS',\n",
       " 'SILVERTONE SECURITIES PVT LTD',\n",
       " 'PRABHAT HOMES PRIVATE LIMITED',\n",
       " 'M/S T S WIND POWER DEVELOPERS',\n",
       " 'MANVAR SAVABHAI',\n",
       " 'SILVERTOSS SECURITIES PVT LTD',\n",
       " 'K K RESOURCES PRIVATE LIMITED',\n",
       " 'COMFORT TRIMS PRIVATE LIMITED',\n",
       " 'THRIVENI EARTH MOVERS PVT LTD',\n",
       " 'RIGHT AID CONSULTANTS PVT LTD',\n",
       " 'STAR CEMENT MEGHALAYA LIMITED',\n",
       " 'YUVAN TRADING CONSULTANCY LLP',\n",
       " 'SARDA ENERGY AND MINERALS LTD',\n",
       " 'MB POWER (MADHYA PRADESH) LTD',\n",
       " 'K AMISH KUMAR TRADING PVT LTD',\n",
       " 'FASTWAY TRANSMISSIONS PVT LTD',\n",
       " 'ARIZONAGLOBALSERVICESPVTLTDBR',\n",
       " 'INDURU SUDHAKARA REDDY',\n",
       " 'NUVOCO VISTAS CORPORATION LTD',\n",
       " 'ASISH FINANCE PRIVATE LIMITED',\n",
       " 'OM METALS DEVELOPERS (P) LTD.',\n",
       " 'S.S.EARTHMOVERS AND LOGISTICS',\n",
       " 'ENAM HOLDINGS PRIVATE LIMITED',\n",
       " 'ATHENA INFRASTRUCTURE LIMITED',\n",
       " 'INFOTELBUSINESSSOLUTIONSLTDBR',\n",
       " 'RAJAPUSHPA PROPERTIES PVT LTD',\n",
       " 'INTAS PHARMACEUTICALS LIMITED',\n",
       " 'PHILLIPS CARBON BLACK LIMITED',\n",
       " 'AVEES TRADING FINANCE PVT LTD',\n",
       " 'QWIKSUPPLYCHAINPRIVATELIMITED',\n",
       " 'ADWITA FINVEST PRIVATE LIMITED',\n",
       " 'GEOJIT INVESTMENT SERVICES LTD',\n",
       " 'RAGHAV COTSPIN PRIVATE LIMITED',\n",
       " 'DAFFODIL GOODS PRIVATE LIMITED',\n",
       " 'M S JUGENDRA SINGH AND COMPANY',\n",
       " 'RITESH VANIJYA PRIVATE LIMITED',\n",
       " 'FIOTEX COTSPIN PRIVATE LIMITED',\n",
       " 'SILVER LINE INVESTMENT COMPANY',\n",
       " 'SITARA DIAMOND PRIVATE LIMITED',\n",
       " 'ROSHINI DEVELOPERS PRIVATE LTD',\n",
       " 'MEHERFOUNDATIONSANDCIVILENGPVT',\n",
       " 'ESTEE TRANSWAYS PRIVATE LIMITE',\n",
       " 'ORIENT FASHION EXP (I) PVT LTD',\n",
       " 'MANKIND TRACOM PRIVATE LIMITED',\n",
       " 'CASTAMET WORKS PRIVATE LIMITED',\n",
       " 'PRIMUSGLOBALTECHNOLOGIESPVTLTD',\n",
       " 'RANISATI MERCANTILES PVT. LTD.',\n",
       " 'TAVINDER SINGH KOHLI',\n",
       " 'VAIBHAW TIE UP PRIVATE LIMITED',\n",
       " 'MIDAS PROJECTS PRIVATE LIMITED',\n",
       " 'GRINIBHRIT SOLAR POWER PVT LTD',\n",
       " 'JUBILANT LIFE SCIENCES LIMITED',\n",
       " 'B.DAS AND ASSOCIATES PVT. LTD.',\n",
       " 'AASHMAN ENERGY PRIVATE LIMITED',\n",
       " 'EDELWEISS HOUSING FINANCE LTD.',\n",
       " 'RAMESH AGARWAL C S BOTTLING PL',\n",
       " 'TEKREANT INDIA PRIVATE LIMITED',\n",
       " 'PURSHOTTAM LAL GUPTA',\n",
       " 'SUNBORNE ENERGY ANDHRA PVT LTD',\n",
       " 'RAMGAD MINERALS AND MINING LTD',\n",
       " 'VIKAS PARASRAMPURIA',\n",
       " 'NIMBHA BIOTECH PRIVATE LIMITED',\n",
       " 'MAITHRI LABORATORIES (PVT) LTD',\n",
       " 'SUDHAKAR KANCHARLA',\n",
       " 'ELENA RENEWABLE ENERGY PVT LTD',\n",
       " 'RATNAMANI METALS AND TUBES LTD',\n",
       " 'ARVINDBEAUTYBRANDSRETAILPVTLTD',\n",
       " 'INDRANI PATNAIK',\n",
       " 'MAHABIR BANKA',\n",
       " 'LAXMI INDUSTRIAL BOTTLING PLAN',\n",
       " 'DR REDDYS LABORATORIES LIMITED',\n",
       " 'RCC NUTRA FILL PRIVATE LIMITED',\n",
       " 'GENEXT HARDWARE PARKS PVT. LTD',\n",
       " 'VEERABHADRAPPA SANGAPPA AND CO',\n",
       " 'TIVOLI PARK APARTMENTS PVT LTD',\n",
       " 'CASTLE LIQUORS PRIVATE LIMITED',\n",
       " 'APCO INFRATECH PRIVATE LIMITED',\n",
       " 'DLF GARDEN CITY INDORE PVT LTD',\n",
       " 'SUN PHARMA LABORATORIES LIMTED',\n",
       " 'PRL DEVELOPERS PRIVATE LIMITED',\n",
       " 'WESTWELL GASES PRIVATE LIMITED',\n",
       " 'TRANSWAYS EXIM PRIVATE LIMITED',\n",
       " 'INFINA FINANCE PRIVATE LIMITED',\n",
       " 'BIRLACARBONINDIAPRIVATELIMITED',\n",
       " 'JINDAL STEEL AND POWER LIMITED',\n",
       " 'RAUNAK GUPTA',\n",
       " 'DHRUV COTTON PROCESSING PVT LTD',\n",
       " 'BAPUNA ALCOBREW PRIVATE LIMITED',\n",
       " 'MAHAVIRA VINCOM PRIVATE LIMITED',\n",
       " 'CLIX SECURITIES PRIVATE LIMITED',\n",
       " 'KONARK RAJENDRA SHAH',\n",
       " 'PRASHANT KUMAR JAISWAL',\n",
       " 'SHIVAM TRANSCON PRIVATE LIMITED',\n",
       " 'PACIFICA INDIA PROJECTS PVT LTD',\n",
       " 'BANSAL BUSINESS PRIVATE LIMITED',\n",
       " 'SHIV SHANKAR SECURITIES PVT LTD',\n",
       " 'ABHRAJIT MITRA',\n",
       " 'NAVAL KISHORE AGARWAL',\n",
       " 'SURENDRA STEELS PRIVATE LIMITED',\n",
       " 'NARBHERAM VISHRAM',\n",
       " 'SUNDARAM INDUSTRIES PVT LIMITED',\n",
       " 'THE GANGES MANUFACTURING CO LTD',\n",
       " 'TRIREME INFRASTRUCTURRE PVT LTD',\n",
       " 'ROSHNI DEALMARK PRIVATE LIMITED',\n",
       " 'HAPPYTAT VILLAS PRIVATE LIMITED',\n",
       " 'FOR M/S SRI NIDHI CONSTRUCTIONS',\n",
       " 'ANANTPURA WIND ENERGIES PVT LTD',\n",
       " 'GANNON DUNKERLEY AND CO LIMITED',\n",
       " 'AJAY GUPTA',\n",
       " 'MOUNT EVEREST BREWERIES LIMITED',\n",
       " 'QUALITY MAINTENANCE VENTURE LTD',\n",
       " 'KIRITI VENTURES PRIVATE LIMITED',\n",
       " 'RANJIT PROJECTS PRIVATE LIMITED',\n",
       " 'R R INFRATECH INDIA PRIVATE LIM',\n",
       " 'MVM SECURITIES PVT LTD-SELF A/C',\n",
       " 'GENUS POWER INFRASTRUCTURES LTD',\n",
       " 'LAXMI INDUSTRIAL BOTTLING PLANT',\n",
       " 'M S VARAS INTERNATIONAL PVT LTD',\n",
       " 'OMKAR REALTORS PROJECTS PVT LTD',\n",
       " 'ASHOKA HUNGUND TALIKOT ROAD LTD',\n",
       " 'VEDIKA VANIJYA PVT LTD-SELF A/C',\n",
       " 'THAKUR PRASAD SAO & SONS PVT LT',\n",
       " 'RENUKESHWAR INVESTMENTS PVT LTD',\n",
       " 'SAROJIT KUMAR DEY',\n",
       " 'RAJAPUSHPA ASSET MANAGEMENT LLP',\n",
       " 'INFOTELACCESSENTERPRISESPL00108',\n",
       " 'CHIRON BEHRING VACCINES PVT LTD',\n",
       " 'ALOK NARAYAN PANDEY',\n",
       " 'VIJAYKUMARMISHRACONSTRUCTIONPVT',\n",
       " 'GANDHAR COALS AND MINES PVT LTD',\n",
       " 'ASKUS LOGISTICS PRIVATE LIMITED',\n",
       " 'UTKAL ALUMINA INTERNATIONAL LTD',\n",
       " 'BRIGHT STAR INVESTMENTS PVT.LTD',\n",
       " 'PRAKASH BALWANT MENGANE',\n",
       " 'DILIP RAMANLAL THACKER',\n",
       " 'ASHOK KUMAR MODI',\n",
       " 'AVINASH MODI',\n",
       " 'ALEMBICPHARMACEUTICALSLINCLRTGS',\n",
       " 'OSTRO JAISALMER PRIVATE LIMITED',\n",
       " 'MR KONARK RAJENDRA SHAH',\n",
       " 'NIRMAL KUMAR BATHWAL',\n",
       " 'LUCINA LAND DEVELOPMENT LIMITED',\n",
       " 'AVEES TRADING & FINANCE PVT LTD',\n",
       " 'TORRENT PHARMACEUTICALS LIMITED',\n",
       " 'DHARIWAL INFRASTRUCTURE LIMITED',\n",
       " 'KEVENTER FOODPARK INFRA LIMITED',\n",
       " 'KAMNA COMMERCIAL PRIVATE LIMITED',\n",
       " 'VM SALGAOCAR CORPORATION PVT LTD',\n",
       " 'SREENATH FINVEST PRIVATE LIMITED',\n",
       " 'AAYTEE LOGISTICS PRIVATE LIMITED',\n",
       " 'MAKARAND PLANTATIONS PVT LIMITED',\n",
       " 'RAYALA SEEMA WIND ENERGY PVT LTD',\n",
       " 'PATEL HIGHWAY MANAGEMENT PVT LTD',\n",
       " 'SHREYAS RENEWABLE ENERGY PVT LTD',\n",
       " 'NVNR POWER INFRA PRIVATE LIMITED',\n",
       " 'SERVEALL LAND DEVELOPERS PVT LTD',\n",
       " 'SPPL PROPERTY MANAGEMENT PVT LTD',\n",
       " 'SYNERGY DEALCOM PVT LTD-SELF A/C',\n",
       " 'SMR AUTOMOTIVE SYSTEMS INDIA LTD',\n",
       " 'RAJDHANI DEALERS PRIVATE LIMITED',\n",
       " 'RAJESH M AGRAWAL',\n",
       " 'PENGUIN TRADING AND AGENCIES LTD',\n",
       " 'KRISHNA SHEET PROCESSORS PVT LTD',\n",
       " 'LOUISIANA INVESTMENT FINANCE PVT',\n",
       " 'RANJIT TOLL ROAD PRIVATE LIMITED',\n",
       " 'KANWAR LAL PATNI',\n",
       " 'TAQUITO LEASE OPERATORS PVT. LTD',\n",
       " 'HANSVAHINI AUTO INTERIOR PVT LTD',\n",
       " 'INFRASTRUCTURE LOGISTICS PVT LTD',\n",
       " 'RAGHUKOOL ESTATE DEVELOPMENT LLP',\n",
       " 'AKSHAT GREENTECH PRIVATE LIMITED',\n",
       " 'BENGAL VIPANAPAN PRIVATE LIMITED',\n",
       " 'INFOTELTECHNOLOGIESPRIVATELIMITE',\n",
       " 'SMRITI AGRAWAL',\n",
       " 'REAL TECHNICAL SOLUTIONS PVT LTD',\n",
       " 'INTERGLOBE AIR TRANSPORT LIMITED',\n",
       " 'HERALD BEVERAGES PRIVATE LIMITED',\n",
       " 'GUJARAT FLUORO CHEMICALS LIMITED',\n",
       " 'TELLAPUR TECHNOCITY PRIVATE LIMI',\n",
       " 'RISHABH PATNI',\n",
       " 'RITHWIK PROJECTS PRIVATE LIMITED',\n",
       " 'LILAC MERCHANDISE PRIVATE LIMITED',\n",
       " 'VINEET PATNI',\n",
       " 'SURESH PATNI',\n",
       " 'HIREHALLI SOLAR POWER PROJECT LLP',\n",
       " 'VIVEK PATNI',\n",
       " 'VIKAS PATNI',\n",
       " 'ASHOK PATNI',\n",
       " 'TRIBHUVAN SPINTEX PRIVATE LIMITED',\n",
       " 'VAMONA DEVELOPERS PRIVATE LIMITED',\n",
       " 'RAKESH PRAVINCHANDRA SHAH',\n",
       " 'MAHENDRA SPONGE AND POWER LIMITED',\n",
       " 'ALMIGHTY FINANCE AND INVESTMENT P',\n",
       " 'VS TOWERS CONTRACTORS PRIVATE LIM',\n",
       " 'ADITYA KUMAR GARG',\n",
       " 'TOPNOTCH PROJECTS PRIVATE LIMITED',\n",
       " 'REENA GARG',\n",
       " 'NAHAR BUILDERS AND DEVELOPERS LTD',\n",
       " 'ROOPREKHA VYAPAAR PRIVATE LIMITED',\n",
       " 'K D LIQUOR AND FERTILIZER PVT LTD',\n",
       " 'TARLA RAJENDRA SHAH',\n",
       " 'CHANDA INVESTMENT TRADING CO. PVT',\n",
       " 'SHREE CHAND SARAOGI',\n",
       " 'NVSUBBA RAO',\n",
       " 'HIMADRI KHAN',\n",
       " 'SHRINIVAS VASUDEVA DEMPO',\n",
       " 'MANOTOSH DAS',\n",
       " 'CHAITANYA ESTATES PRIVATE LIMITED',\n",
       " 'FAIRPLAN VINTRADE PRIVATE LIMITED',\n",
       " 'SATISHCHANDRA SHANTILAL DOSHI HUF',\n",
       " 'RAMESH AGARWAL C S BOTTLING PLANT',\n",
       " 'VENKAT PRANEETH DEVELOPRS (P) LTD',\n",
       " 'PREMIER PHOTOVOLTAIC MEDAK (P)LTD',\n",
       " 'R.S.BROTHERS RETIAL INDIA PVT LTD',\n",
       " 'FORTUNE ESTATE DEVELOPERS PVT LTD',\n",
       " 'DESAI TRADING CONSULTANTS PVT LTD',\n",
       " 'EDELWEISS RURAL CORPORATE SERVICE',\n",
       " 'MANVAR DEVABHAI',\n",
       " 'INTERNATIONAL TRADING CORPORATION',\n",
       " 'SAROJA RENEWABLES PRIVATE LIMITED',\n",
       " 'EFICENS SOFTWARE SERVICES PVT LTD',\n",
       " 'SUN DISTRIBUTION SERVICES PVT LTD',\n",
       " 'GREENKO RAYALA WIND POWER PVT LTD',\n",
       " 'DEVAL KHAMUBHAI MANVAR',\n",
       " 'CHHATTISGARH DISTILLERIES LIMITED',\n",
       " 'D R INTERNATIONAL PRIVATE LIMITED',\n",
       " 'AVEES TRADING AND FINANCE PVT LTD',\n",
       " 'TANOT WIND POWER VENTURES PVT LTD',\n",
       " 'KEJRIWAL MIINIING PRIVATE LIMITED',\n",
       " 'V M SALGAOCAR CORPORATION PVT LTD',\n",
       " 'PRESTIGE NOTTING HILL INVESTMENTS',\n",
       " 'NSL SEZ HYDERABAD PRIVATE LIMITED',\n",
       " 'GREENKO MP01 IREP PRIVATE LIMITED',\n",
       " 'FERTILELAND FOODS PRIVATE LIMITED',\n",
       " 'ASIAN TRADING CORPORATION LIMITED',\n",
       " 'JWIL INFRA LTD. (FORM. JITF WATER',\n",
       " 'SHRI JAGANNATH STEELS & POWER LTD',\n",
       " 'ARUNANGSHU MUKHERJEE',\n",
       " 'EUGIA PHARMA SPECIALITIES LIMITED',\n",
       " 'INORBIT MALLS INDIA PRIVATE LIMIT',\n",
       " 'OSTRO MADHYA WIND PRIVATE LIMITED',\n",
       " 'MR SAURABH BAKLIWAL',\n",
       " 'HH IRON AND STEEL PRIVATE LIMITED',\n",
       " 'KOYA AND COMPANY CONSTRUCTION LTD',\n",
       " 'IRB MP EXPRESSWAY PRIVATE LIMITED',\n",
       " 'DLF COMMERCIAL DEVELOPERS LIMITED',\n",
       " 'AVIGHNA MEDITECH SOLUTIONS PVT LTD',\n",
       " 'UNNIKRISHNAN K',\n",
       " 'KAMLANG SAW & VENEER MILLS PVT LTD',\n",
       " 'MADAMAGERI SOLAR POWER PROJECT LLP',\n",
       " 'MADHYA PRADESH WASTE MANAGEMENT PR',\n",
       " 'PRARAMBH SECURITIES PVT LTDOWN A/C',\n",
       " 'BHACHIBEN KHAMUBHAI MANVAR',\n",
       " 'SOM DISTILLERIES BREWERIES LIMITED',\n",
       " 'RATHOD LAKHIBEN',\n",
       " 'HARIJAN HIRIBAI',\n",
       " 'PENNAR RENEWABLES PVT LTD( NEW ERA',\n",
       " 'SAGI VENKATA RAMAKRISHNA RAJU',\n",
       " 'VALLURUPALLI PRABHU KISHORE',\n",
       " 'VAMSIRAMS JYOTHI LORVEN',\n",
       " 'PARESH CHAMPAKLAL SHAH',\n",
       " 'RAVENDER RAO GORUKANTI',\n",
       " 'GORUKANTI DEVENDER RAO',\n",
       " 'KMK DEVELOPERS PVT LTD ASHISH BHAS',\n",
       " 'IDEAL REAL ESTATES PRIVATE LIMITED',\n",
       " 'GORUKANTI SURENDER RAO',\n",
       " 'DOYEN ENGINEERING SERVICES PRIVATE',\n",
       " 'DYNERE ENGINEERING PRIVATE LIMITED',\n",
       " 'BALAJI REAL ESTATE VENTURES PVT LT',\n",
       " 'AMBUJA REALTY EVENTS MANAGMENT LTD',\n",
       " 'PRATYASH RENEWABLE PRIVATE LIMITED',\n",
       " 'PALM SHELTER ESTATE DEVELOPMENT LL',\n",
       " 'FRIGORIFICO ALLANA PRIVATE LIMITED',\n",
       " 'LIFELINE MARKETING PRIVATE LIMITED',\n",
       " 'BORAVELLI BHUPAL REDDY',\n",
       " 'VIPUL CHAMPAKLAL SHAH',\n",
       " 'DEVARAHIPPARIGI WIND POWER PVT LTD',\n",
       " 'CROCHET TRADE AND INVESTMENT PVT L',\n",
       " 'ANIMALA WIND POWER PRIVATE LIMITED',\n",
       " 'BORAVELLI RAMULAMMA',\n",
       " 'AARISH SOLAR POWER PRIVATE LIMITED',\n",
       " 'ASSOCIATED ALCOHOLS BREWERIES LIMI',\n",
       " 'KALPTARU INVESTMENTS PVT.LTD. PROP',\n",
       " 'PRASAD AND COMPANY PRIVATE LIMITED',\n",
       " 'GREENKO BUDHIL HYDRO POWER PVT LTD',\n",
       " 'ARAVALI TECHNICAL SERVICES PVT LTD',\n",
       " 'SHANKARANARAYANA CONSTRUCTIONS PVT',\n",
       " 'RENUKA INVESTMENTS AND FINANCE LTD',\n",
       " 'ASHOKA MUDHOL NIPANI ROADS LIMITED',\n",
       " 'THE PUNJAB BUSINESS SUPPLY COMPANY',\n",
       " 'AQ SQUARE REALTORS PRIVATE LIMITED',\n",
       " 'PRADEEP AGGARWAL',\n",
       " 'SRI KUMARASWAMY MINERAL EXPORTS PR',\n",
       " 'MY HOME INFRASTRUCTURES PVT LTD MY',\n",
       " 'APCO INFRATECH PVT LTD FORMERLY AP',\n",
       " 'VIKAS AGGARWAL',\n",
       " 'MY HOME INFRASTRUCTURES PRIVATE LI',\n",
       " 'NSL SEZ(HYDERABAD) PRIVATE LIMITED',\n",
       " 'PENGUIN TRADING & AGENCIES LIMITED',\n",
       " 'SEPC POWER PVT LTD OPERATION RETEN',\n",
       " 'PERFECT INVESTMENT CONSULTANCY PRIV',\n",
       " 'CHIKKAHALLI SOLAR POWER PROJECT LLP',\n",
       " 'SUSHILA PATNI',\n",
       " 'SIDHANT INVESTMENT ADVISORY PRIVATE',\n",
       " 'SAMMAN LAL SHER SINGH PAPERS PVT LT',\n",
       " 'CONFIDENT FINANCIAL CONSULTANCY PRI',\n",
       " 'R K V FABTECH INDIA PRIVATE LIMITED',\n",
       " 'JAINENDRA PRAVINCHANDRA SHAH',\n",
       " 'SYLVANUS BUILDERS AND DEVELOPERS LI',\n",
       " 'SALASAR FINANCIAL ADVISORY SERVICES',\n",
       " 'MUPPANA VENKATA RAO',\n",
       " 'DIPAN P SHAH',\n",
       " 'TEJAS P SHAH',\n",
       " 'VARAS INTERNATIONAL PRIVATE LIMITED',\n",
       " 'MR. MAYANK SINGHAL',\n",
       " 'PRATIKSHA DOSHI',\n",
       " 'HITESH D SHAH',\n",
       " 'DEVEN CHAND JAIN',\n",
       " 'JAINENDRA P SHAH',\n",
       " 'DIPAN PRAVINCHANDRA SHAH',\n",
       " 'NARESH HIRALAL BHANSALI',\n",
       " 'DR. MANDEEP SHARMA',\n",
       " 'ASHUTOSH JYOTIPRASAD TAPARIA',\n",
       " 'RAVINDRANATHA REDDY BANDI',\n",
       " 'VENUS FINANCIAL CONSULTANTS PVT LTD',\n",
       " 'PACIFICA DEVELOPERS P LTD REFLECTIO',\n",
       " 'PUSHKARA COMMOSALES PRIVATE LIMITED',\n",
       " 'SHAURYAVIR CARRIERS PRIVATE LIMITED',\n",
       " 'SLICK SOFTWARE SOLUTIONS PRIVATE LI',\n",
       " 'PAVANKUMAR REDDY KUNDURU',\n",
       " 'YOGESH MANNALAL AGRAWAL',\n",
       " 'PROCURE ADVISORY SERVICES PRIVATE L',\n",
       " 'REGENT ELECTRO MECH PRIVATE LIMITED',\n",
       " 'PANACEA BIOTEC PHARMA LTD PHARMACEU',\n",
       " 'BHAGYASREE REALTORS PRIVATE LIMITED',\n",
       " 'BISHOPS WEED FOOD CRAFTS PRIVATE LI',\n",
       " 'PRABHAKARA RAO MANDAVA',\n",
       " 'CURATED LIVING SOLUTIONS PRIVATE LI',\n",
       " 'CENTURY TEXTILES AND INDUSTRIES LTD',\n",
       " 'DIVYASREE SOFTTECH REALTORS PVT LTD',\n",
       " 'DEEPAK KUMAR GADDHYAN',\n",
       " 'MAHESH NARAYAN KHADE',\n",
       " 'CHAKRADHARI TRADELINK PRIVATE LIMIT',\n",
       " 'SWARNAPUSHPA VANIJYA PRIVATE LIMITE',\n",
       " 'URMILA DEVI TAPARIA',\n",
       " 'SILVERTONE SECURITIES PRIVATE LIMIT',\n",
       " 'CROCHET TRADE AND INVESTMENT PVT LT',\n",
       " 'MS PEARL GLOBAL INDUSTRIES LTD FORM',\n",
       " 'P TEJAVARDHAN REDDY',\n",
       " 'SIDHARTH AGARWAL',\n",
       " 'VEERA RAVEENDRA',\n",
       " 'VEDANTA ELECTRICALS PRIVATE LIMITED',\n",
       " 'SKEIRON RENEWABLE ENERGY AMIDYALA P',\n",
       " 'NANDED CITY DEVELOPMENT AND CONSTRU',\n",
       " 'KHANDKE WIND ENERGY PRIVATE LIMITED',\n",
       " 'AMARAVATI TEKSYSTEMS PRIVATE LIMITE',\n",
       " 'KAUSTUBH VERMA',\n",
       " 'LALIT GULATI',\n",
       " 'VIDUR GUPTA',\n",
       " 'MARDI GRAS LIQUOR DIV OF MARDI GRAS',\n",
       " 'PRUDHVI CONSTRUCTIONS PRIVATE LIMITED',\n",
       " 'VIPIN GUPTA',\n",
       " 'MANJIT KAUR',\n",
       " 'SIGMA ADVANCED SYSTEMS  PRIVATE LIMITED',\n",
       " 'GOURAB ROY',\n",
       " 'AJAY SARAF',\n",
       " 'SANJAY KUMAR',\n",
       " 'BANGUR SHREE',\n",
       " 'RAJESH KUMAR AGARWAL',\n",
       " 'NIRAV MAROTI',\n",
       " 'SARITA MIRANIA AGARWAL',\n",
       " 'KISHAN MIRANIA AGARWAL',\n",
       " 'SEEMA MIRANIA AGARWAL',\n",
       " 'THRIVENI SAINIK MINING PRIVATE LIMITED',\n",
       " 'PRABHAKAR RAO ASHA PRIYA PROPERTIES',\n",
       " 'GREENKO URAVAKONDA WIND POWER PRIVA',\n",
       " 'MAGARPATTA TOWNSHIP DEV AND CONST C',\n",
       " 'AXIS WIND FARMS (MPR DAM) PRIVATE L',\n",
       " 'PALM SHELTER ESTATE DEVELOPMENT LLP',\n",
       " 'TSHARKS INFRA DEVELOPERS  PRIVATE LIMITED',\n",
       " 'TSHARKS OVERSEAS EDUCATION CONSULTA',\n",
       " 'KVR BASELINE RESOURCES  PRIVATE LIMITED',\n",
       " 'VILLAGE DE NANDI PVT LTD RERA DESIG',\n",
       " 'MR SACHIN BAKLIWAL',\n",
       " 'NSL RENEWABLE POWER PRIVATE LIMITED',\n",
       " 'PRESTIGE PROPERTY MANAGEMENT AND SE',\n",
       " 'PRESTIGE ESTATES PROJECTS LTD PREST',\n",
       " 'ORIENTAL SOUTH DELHI HOTELS PVT LTD',\n",
       " 'ILABS HYD TECHNOLOGY CENTRE PVT LTD',\n",
       " 'EVERSHINE INTERIORS CHENNAI PVT LTD',\n",
       " 'AUGMONT ENTERPRISES PRIVATE LIMITED',\n",
       " 'BLUEBERRY TRADING COMPANY  PRIVATE LIMITED',\n",
       " 'CYGNUS POWER INFRA SERVICES PRIVATE',\n",
       " 'TANUSHREE LOGISTICS PRIVATE LIMITED',\n",
       " 'MADHYA PRADESH WASTE MANAGEMENT PRI',\n",
       " 'GK ENERGY MARKETERS PRIVATE LIMITED',\n",
       " 'VINAY KUMAR BHATT',\n",
       " 'WARORA CHANDRAPUR BALLARPUR TOLLROA',\n",
       " 'M/S. RAMESH AGARWAL C S BOTTLING PL',\n",
       " 'AGARWAL M BISHAN',\n",
       " 'SUN OILNATURAL GAS DIV SUN PETRO PRIVATE LTD',\n",
       " 'GREENKO ENERGY PROJECTS PRIVATE LTD',\n",
       " 'SAGUN TULSYAN',\n",
       " 'COMFORT TRIMS PRIVATE LIMITED DIVIS',\n",
       " 'KAMAL MANOHAR',\n",
       " 'KULWANT SINGH',\n",
       " 'NAMIT PURI',\n",
       " 'SENGUPTA AND SENGUPTA PRIVATE LIMIT',\n",
       " 'SUPER CYBERTECH PARK PRIVATE LIMITE',\n",
       " 'SOURABH KUMAR ROY',\n",
       " 'RUPA H SHAH',\n",
       " 'SUNKURU SURESH SUBUDHI JT',\n",
       " 'BYRAPANENI SHIVARJUN RAO',\n",
       " 'MOHINDER KUMAR JAIN',\n",
       " 'RAKESH KUMAR SHARMA',\n",
       " 'NITESH KUMAR GUPTA',\n",
       " 'BINOD KUMAR MAROTI',\n",
       " 'SANDEEP AGGARWAL',\n",
       " 'USV PRIVATE LTD ( FORMERLY USV LTD)',\n",
       " 'SHRI SHAMLAJI SALES PRIVATE LIMITED',\n",
       " 'PRESTIGE GARDEN ESTATES PRIVATE LIM',\n",
       " 'INORBIT MALLS INDIA PRIVATE LIMITED',\n",
       " 'ENVIRO CONTROL PRIVATE LIMITED FORM',\n",
       " 'CHANDRAJYOTI ESTATE DEVELOPERS PVT.',\n",
       " 'KHUSHBU AGGARWAL',\n",
       " 'JYOTSNA AGGARWAL',\n",
       " 'BAJAJ HOLDINGS & INVESTMENT LIMITED',\n",
       " 'BIOXGREEN TECHNOLOGY PRIVATE LIMITE',\n",
       " 'SATEC ENVIR ENGINEERING (I) PVT LTD',\n",
       " 'MYTRAH ENERGY INDIA PRIVATE LIMITED',\n",
       " 'AQUA SPACE DEVELOPERS PRIVATE LIMIT',\n",
       " 'VIPIN AGGARWAL',\n",
       " 'GENUS POWER INFRASTRUCTURES LIMITED',\n",
       " 'KAMNA CREDITS AND PROMOTORS PVT LTD',\n",
       " 'LAXMI CIVIL ENGINEERING SERVICES PR',\n",
       " 'PRARAMBH SECURITIES PVT LTDPROPRIET',\n",
       " 'CHENNAI GREEN WOODS PRIVATE LIMITED',\n",
       " 'USHA AGGARWAL',\n",
       " 'UTKAL ALUMINA INTERNATIONAL LIMITED',\n",
       " 'FUTURE GAMING AND HOTEL SERVICES PRIVATE LIMITED',\n",
       " 'VASSUDEVA DEMPO FAMILY PRIVATE TRUST',\n",
       " 'PREM AGGARWAL',\n",
       " 'UNILIGHT REINSURANCE BROKERS PVT LTD',\n",
       " 'SHREYAS RENEWABLE ENERGY PRIVATE LTD',\n",
       " 'RICHA GLOBAL EXPORTS PRIVATE LIMITED',\n",
       " 'SEI ENERSTAR RENEWABLE ENRGY PVT LTD',\n",
       " 'VIHAAN AUTO VENTURES PRIVATE LIMITED',\n",
       " 'GREENKO SUMEZ HYDRO ENERGIES PVT LTD',\n",
       " 'BIRD WORLDWIDE FLIGHT SERVICES INDIA',\n",
       " 'ACHINTYA SOLAR POWER PRIVATE LIMITED',\n",
       " 'MYTRAH ENERGY(INDIA) PRIVATE LIMITED',\n",
       " 'DIWAKAR NIGAM',\n",
       " 'RONAK AJMERA',\n",
       " 'FUTURISTIC HANDLING SERVICES PVT LTD',\n",
       " 'CAMELIA GRIHA NIRMAN PRIVATE LIMITED',\n",
       " 'H S ARAVINDA',\n",
       " ...]"
      ]
     },
     "execution_count": 72,
     "metadata": {},
     "output_type": "execute_result"
    }
   ],
   "source": [
    "unique_buyer"
   ]
  },
  {
   "cell_type": "markdown",
   "metadata": {},
   "source": [
    "******************************************************************************************************"
   ]
  },
  {
   "cell_type": "markdown",
   "metadata": {},
   "source": [
    "**What types of buyers are there?**\n"
   ]
  },
  {
   "cell_type": "code",
   "execution_count": 73,
   "metadata": {},
   "outputs": [
    {
     "data": {
      "text/plain": [
       "['Firm', 'HUF', 'Hospital', 'Iindividual', 'Trust', 'Medical']"
      ]
     },
     "execution_count": 73,
     "metadata": {},
     "output_type": "execute_result"
    }
   ],
   "source": [
    "bond_buyer['Type'].unique().tolist()"
   ]
  },
  {
   "cell_type": "markdown",
   "metadata": {},
   "source": [
    "******************************************************************************************************"
   ]
  },
  {
   "cell_type": "markdown",
   "metadata": {},
   "source": [
    "**How many buyers belong to each type?**"
   ]
  },
  {
   "cell_type": "code",
   "execution_count": 74,
   "metadata": {},
   "outputs": [
    {
     "data": {
      "text/html": [
       "<div>\n",
       "<style scoped>\n",
       "    .dataframe tbody tr th:only-of-type {\n",
       "        vertical-align: middle;\n",
       "    }\n",
       "\n",
       "    .dataframe tbody tr th {\n",
       "        vertical-align: top;\n",
       "    }\n",
       "\n",
       "    .dataframe thead th {\n",
       "        text-align: right;\n",
       "    }\n",
       "</style>\n",
       "<table border=\"1\" class=\"dataframe\">\n",
       "  <thead>\n",
       "    <tr style=\"text-align: right;\">\n",
       "      <th></th>\n",
       "      <th>Type</th>\n",
       "      <th>count</th>\n",
       "    </tr>\n",
       "  </thead>\n",
       "  <tbody>\n",
       "    <tr>\n",
       "      <th>0</th>\n",
       "      <td>Firm</td>\n",
       "      <td>938</td>\n",
       "    </tr>\n",
       "    <tr>\n",
       "      <th>1</th>\n",
       "      <td>Iindividual</td>\n",
       "      <td>365</td>\n",
       "    </tr>\n",
       "    <tr>\n",
       "      <th>2</th>\n",
       "      <td>HUF</td>\n",
       "      <td>7</td>\n",
       "    </tr>\n",
       "    <tr>\n",
       "      <th>3</th>\n",
       "      <td>Hospital</td>\n",
       "      <td>2</td>\n",
       "    </tr>\n",
       "    <tr>\n",
       "      <th>4</th>\n",
       "      <td>Trust</td>\n",
       "      <td>2</td>\n",
       "    </tr>\n",
       "    <tr>\n",
       "      <th>5</th>\n",
       "      <td>Medical</td>\n",
       "      <td>2</td>\n",
       "    </tr>\n",
       "  </tbody>\n",
       "</table>\n",
       "</div>"
      ],
      "text/plain": [
       "          Type  count\n",
       "0         Firm    938\n",
       "1  Iindividual    365\n",
       "2          HUF      7\n",
       "3     Hospital      2\n",
       "4        Trust      2\n",
       "5      Medical      2"
      ]
     },
     "execution_count": 74,
     "metadata": {},
     "output_type": "execute_result"
    }
   ],
   "source": [
    "bond_buyer['Type'].value_counts().reset_index()"
   ]
  },
  {
   "cell_type": "markdown",
   "metadata": {},
   "source": [
    "******************************************************************************************************"
   ]
  },
  {
   "cell_type": "markdown",
   "metadata": {},
   "source": [
    "**What's the most common amount of bonds each type of buyer purchases?**"
   ]
  },
  {
   "cell_type": "code",
   "execution_count": 75,
   "metadata": {},
   "outputs": [
    {
     "data": {
      "text/html": [
       "<div>\n",
       "<style scoped>\n",
       "    .dataframe tbody tr th:only-of-type {\n",
       "        vertical-align: middle;\n",
       "    }\n",
       "\n",
       "    .dataframe tbody tr th {\n",
       "        vertical-align: top;\n",
       "    }\n",
       "\n",
       "    .dataframe thead th {\n",
       "        text-align: right;\n",
       "    }\n",
       "</style>\n",
       "<table border=\"1\" class=\"dataframe\">\n",
       "  <thead>\n",
       "    <tr style=\"text-align: right;\">\n",
       "      <th></th>\n",
       "      <th>Type</th>\n",
       "      <th>Denomination</th>\n",
       "    </tr>\n",
       "  </thead>\n",
       "  <tbody>\n",
       "    <tr>\n",
       "      <th>0</th>\n",
       "      <td>Firm</td>\n",
       "      <td>123321425.0</td>\n",
       "    </tr>\n",
       "    <tr>\n",
       "      <th>1</th>\n",
       "      <td>HUF</td>\n",
       "      <td>3857143.0</td>\n",
       "    </tr>\n",
       "    <tr>\n",
       "      <th>2</th>\n",
       "      <td>Hospital</td>\n",
       "      <td>811250000.0</td>\n",
       "    </tr>\n",
       "    <tr>\n",
       "      <th>3</th>\n",
       "      <td>Iindividual</td>\n",
       "      <td>10957904.0</td>\n",
       "    </tr>\n",
       "    <tr>\n",
       "      <th>4</th>\n",
       "      <td>Medical</td>\n",
       "      <td>110000000.0</td>\n",
       "    </tr>\n",
       "    <tr>\n",
       "      <th>5</th>\n",
       "      <td>Trust</td>\n",
       "      <td>5250000.0</td>\n",
       "    </tr>\n",
       "  </tbody>\n",
       "</table>\n",
       "</div>"
      ],
      "text/plain": [
       "          Type  Denomination\n",
       "0         Firm   123321425.0\n",
       "1          HUF     3857143.0\n",
       "2     Hospital   811250000.0\n",
       "3  Iindividual    10957904.0\n",
       "4      Medical   110000000.0\n",
       "5        Trust     5250000.0"
      ]
     },
     "execution_count": 75,
     "metadata": {},
     "output_type": "execute_result"
    }
   ],
   "source": [
    "bond_buyer.groupby('Type')['Denomination'].mean().__round__().reset_index()"
   ]
  },
  {
   "cell_type": "markdown",
   "metadata": {},
   "source": [
    "******************************************************************************************************"
   ]
  },
  {
   "cell_type": "markdown",
   "metadata": {},
   "source": [
    "**Are there any buyers who stand out because they buy a lot of bonds?**"
   ]
  },
  {
   "cell_type": "code",
   "execution_count": 16,
   "metadata": {},
   "outputs": [
    {
     "data": {
      "text/plain": [
       "Purchaser Name\n",
       "FUTURE GAMING AND HOTEL SERVICES PRIVATE LIMITED    13680000000\n",
       "MEGHA ENGINEERING AND INFRASTRUCTURES LIMITED        8210000000\n",
       "QWIKSUPPLYCHAINPRIVATELIMITED                        4100000000\n",
       "HALDIA ENERGY LIMITED                                3770000000\n",
       "VEDANTA LIMITED                                      3756500000\n",
       "Name: Denomination, dtype: int64"
      ]
     },
     "execution_count": 16,
     "metadata": {},
     "output_type": "execute_result"
    }
   ],
   "source": [
    "bond_buyer.groupby('Purchaser Name')['Denomination'].sum().sort_values(ascending=False).head()"
   ]
  },
  {
   "cell_type": "code",
   "execution_count": 3,
   "metadata": {},
   "outputs": [
    {
     "data": {
      "text/html": [
       "<div>\n",
       "<style scoped>\n",
       "    .dataframe tbody tr th:only-of-type {\n",
       "        vertical-align: middle;\n",
       "    }\n",
       "\n",
       "    .dataframe tbody tr th {\n",
       "        vertical-align: top;\n",
       "    }\n",
       "\n",
       "    .dataframe thead th {\n",
       "        text-align: right;\n",
       "    }\n",
       "</style>\n",
       "<table border=\"1\" class=\"dataframe\">\n",
       "  <thead>\n",
       "    <tr style=\"text-align: right;\">\n",
       "      <th></th>\n",
       "      <th>Purchaser Name</th>\n",
       "      <th>Denomination</th>\n",
       "      <th>Type</th>\n",
       "    </tr>\n",
       "  </thead>\n",
       "  <tbody>\n",
       "    <tr>\n",
       "      <th>0</th>\n",
       "      <td>FUTURE GAMING AND HOTEL SERVICES PRIVATE LIMITED</td>\n",
       "      <td>12080000000</td>\n",
       "      <td>Firm</td>\n",
       "    </tr>\n",
       "    <tr>\n",
       "      <th>1</th>\n",
       "      <td>MEGHA ENGINEERING AND INFRASTRUCTURES LIMITED</td>\n",
       "      <td>8210000000</td>\n",
       "      <td>Firm</td>\n",
       "    </tr>\n",
       "    <tr>\n",
       "      <th>2</th>\n",
       "      <td>QWIKSUPPLYCHAINPRIVATELIMITED</td>\n",
       "      <td>4100000000</td>\n",
       "      <td>Firm</td>\n",
       "    </tr>\n",
       "    <tr>\n",
       "      <th>3</th>\n",
       "      <td>HALDIA ENERGY LIMITED</td>\n",
       "      <td>3770000000</td>\n",
       "      <td>Firm</td>\n",
       "    </tr>\n",
       "    <tr>\n",
       "      <th>4</th>\n",
       "      <td>VEDANTA LIMITED</td>\n",
       "      <td>3756500000</td>\n",
       "      <td>Firm</td>\n",
       "    </tr>\n",
       "    <tr>\n",
       "      <th>...</th>\n",
       "      <td>...</td>\n",
       "      <td>...</td>\n",
       "      <td>...</td>\n",
       "    </tr>\n",
       "    <tr>\n",
       "      <th>1311</th>\n",
       "      <td>N RAMAMOORTHY</td>\n",
       "      <td>1000</td>\n",
       "      <td>Iindividual</td>\n",
       "    </tr>\n",
       "    <tr>\n",
       "      <th>1312</th>\n",
       "      <td>PAWAN AGARWAL</td>\n",
       "      <td>1000</td>\n",
       "      <td>Iindividual</td>\n",
       "    </tr>\n",
       "    <tr>\n",
       "      <th>1313</th>\n",
       "      <td>KUNAL GUPTA</td>\n",
       "      <td>1000</td>\n",
       "      <td>Iindividual</td>\n",
       "    </tr>\n",
       "    <tr>\n",
       "      <th>1314</th>\n",
       "      <td>DAMINI NATH</td>\n",
       "      <td>1000</td>\n",
       "      <td>Iindividual</td>\n",
       "    </tr>\n",
       "    <tr>\n",
       "      <th>1315</th>\n",
       "      <td>ARAVIND S</td>\n",
       "      <td>1000</td>\n",
       "      <td>Iindividual</td>\n",
       "    </tr>\n",
       "  </tbody>\n",
       "</table>\n",
       "<p>1316 rows × 3 columns</p>\n",
       "</div>"
      ],
      "text/plain": [
       "                                        Purchaser Name  Denomination  \\\n",
       "0     FUTURE GAMING AND HOTEL SERVICES PRIVATE LIMITED   12080000000   \n",
       "1        MEGHA ENGINEERING AND INFRASTRUCTURES LIMITED    8210000000   \n",
       "2                        QWIKSUPPLYCHAINPRIVATELIMITED    4100000000   \n",
       "3                                HALDIA ENERGY LIMITED    3770000000   \n",
       "4                                      VEDANTA LIMITED    3756500000   \n",
       "...                                                ...           ...   \n",
       "1311                                     N RAMAMOORTHY          1000   \n",
       "1312                                     PAWAN AGARWAL          1000   \n",
       "1313                                       KUNAL GUPTA          1000   \n",
       "1314                                       DAMINI NATH          1000   \n",
       "1315                                         ARAVIND S          1000   \n",
       "\n",
       "             Type  \n",
       "0            Firm  \n",
       "1            Firm  \n",
       "2            Firm  \n",
       "3            Firm  \n",
       "4            Firm  \n",
       "...           ...  \n",
       "1311  Iindividual  \n",
       "1312  Iindividual  \n",
       "1313  Iindividual  \n",
       "1314  Iindividual  \n",
       "1315  Iindividual  \n",
       "\n",
       "[1316 rows x 3 columns]"
      ]
     },
     "execution_count": 3,
     "metadata": {},
     "output_type": "execute_result"
    }
   ],
   "source": [
    "bond_buyer"
   ]
  },
  {
   "cell_type": "markdown",
   "metadata": {},
   "source": [
    "******************************************************************************************************"
   ]
  },
  {
   "cell_type": "markdown",
   "metadata": {},
   "source": [
    "**Which Individual Buys the most bonds?**"
   ]
  },
  {
   "cell_type": "code",
   "execution_count": 46,
   "metadata": {},
   "outputs": [],
   "source": [
    "top_individuals  = bond_buyer.groupby('Purchaser Name')[['Denomination', 'Type']].sum()"
   ]
  },
  {
   "cell_type": "code",
   "execution_count": 47,
   "metadata": {},
   "outputs": [
    {
     "data": {
      "text/html": [
       "<div>\n",
       "<style scoped>\n",
       "    .dataframe tbody tr th:only-of-type {\n",
       "        vertical-align: middle;\n",
       "    }\n",
       "\n",
       "    .dataframe tbody tr th {\n",
       "        vertical-align: top;\n",
       "    }\n",
       "\n",
       "    .dataframe thead th {\n",
       "        text-align: right;\n",
       "    }\n",
       "</style>\n",
       "<table border=\"1\" class=\"dataframe\">\n",
       "  <thead>\n",
       "    <tr style=\"text-align: right;\">\n",
       "      <th></th>\n",
       "      <th>Denomination</th>\n",
       "      <th>Type</th>\n",
       "    </tr>\n",
       "    <tr>\n",
       "      <th>Purchaser Name</th>\n",
       "      <th></th>\n",
       "      <th></th>\n",
       "    </tr>\n",
       "  </thead>\n",
       "  <tbody>\n",
       "    <tr>\n",
       "      <th>LAKSHMI NIWAS MITTAL</th>\n",
       "      <td>350000000</td>\n",
       "      <td>Iindividual</td>\n",
       "    </tr>\n",
       "    <tr>\n",
       "      <th>K R RAJA JT</th>\n",
       "      <td>250000000</td>\n",
       "      <td>Iindividual</td>\n",
       "    </tr>\n",
       "    <tr>\n",
       "      <th>LAXMIDAS VALLABHDAS ASMITA MERCHA</th>\n",
       "      <td>250000000</td>\n",
       "      <td>Iindividual</td>\n",
       "    </tr>\n",
       "    <tr>\n",
       "      <th>RAHUL BHATIA</th>\n",
       "      <td>200000000</td>\n",
       "      <td>Iindividual</td>\n",
       "    </tr>\n",
       "    <tr>\n",
       "      <th>M/SKJS AHLUWALIA</th>\n",
       "      <td>140000000</td>\n",
       "      <td>Iindividual</td>\n",
       "    </tr>\n",
       "  </tbody>\n",
       "</table>\n",
       "</div>"
      ],
      "text/plain": [
       "                                   Denomination         Type\n",
       "Purchaser Name                                              \n",
       "LAKSHMI NIWAS MITTAL                  350000000  Iindividual\n",
       "K R RAJA JT                           250000000  Iindividual\n",
       "LAXMIDAS VALLABHDAS ASMITA MERCHA     250000000  Iindividual\n",
       "RAHUL BHATIA                          200000000  Iindividual\n",
       "M/SKJS AHLUWALIA                      140000000  Iindividual"
      ]
     },
     "execution_count": 47,
     "metadata": {},
     "output_type": "execute_result"
    }
   ],
   "source": [
    "top_individuals [top_individuals ['Type'] == 'Iindividual'].sort_values(by='Denomination' , ascending=False).head()"
   ]
  },
  {
   "cell_type": "markdown",
   "metadata": {},
   "source": [
    "******************************************************************************************************"
   ]
  },
  {
   "cell_type": "markdown",
   "metadata": {},
   "source": [
    "**What is the number of bonds purchased by each individual, and who bought the most??**"
   ]
  },
  {
   "cell_type": "code",
   "execution_count": 4,
   "metadata": {},
   "outputs": [],
   "source": [
    "top_individuals  = bond_buyer.groupby('Purchaser Name')[['Denomination']].count()"
   ]
  },
  {
   "cell_type": "code",
   "execution_count": 5,
   "metadata": {},
   "outputs": [
    {
     "data": {
      "text/html": [
       "<div>\n",
       "<style scoped>\n",
       "    .dataframe tbody tr th:only-of-type {\n",
       "        vertical-align: middle;\n",
       "    }\n",
       "\n",
       "    .dataframe tbody tr th {\n",
       "        vertical-align: top;\n",
       "    }\n",
       "\n",
       "    .dataframe thead th {\n",
       "        text-align: right;\n",
       "    }\n",
       "</style>\n",
       "<table border=\"1\" class=\"dataframe\">\n",
       "  <thead>\n",
       "    <tr style=\"text-align: right;\">\n",
       "      <th></th>\n",
       "      <th>Denomination</th>\n",
       "    </tr>\n",
       "    <tr>\n",
       "      <th>Purchaser Name</th>\n",
       "      <th></th>\n",
       "    </tr>\n",
       "  </thead>\n",
       "  <tbody>\n",
       "    <tr>\n",
       "      <th>FUTURE GAMING AND HOTEL SERVICES PRIVATE LIMITED</th>\n",
       "      <td>3</td>\n",
       "    </tr>\n",
       "    <tr>\n",
       "      <th>14 REELS PLUS LLP</th>\n",
       "      <td>1</td>\n",
       "    </tr>\n",
       "    <tr>\n",
       "      <th>RAHUL CHOUDHARY</th>\n",
       "      <td>1</td>\n",
       "    </tr>\n",
       "    <tr>\n",
       "      <th>RAHUL BHATIA</th>\n",
       "      <td>1</td>\n",
       "    </tr>\n",
       "    <tr>\n",
       "      <th>RAHUL AGARWAL</th>\n",
       "      <td>1</td>\n",
       "    </tr>\n",
       "  </tbody>\n",
       "</table>\n",
       "</div>"
      ],
      "text/plain": [
       "                                                  Denomination\n",
       "Purchaser Name                                                \n",
       "FUTURE GAMING AND HOTEL SERVICES PRIVATE LIMITED             3\n",
       "14 REELS PLUS LLP                                            1\n",
       "RAHUL CHOUDHARY                                              1\n",
       "RAHUL BHATIA                                                 1\n",
       "RAHUL AGARWAL                                                1"
      ]
     },
     "execution_count": 5,
     "metadata": {},
     "output_type": "execute_result"
    }
   ],
   "source": [
    "top_individuals.sort_values(by='Denomination',ascending=False).head()"
   ]
  },
  {
   "cell_type": "markdown",
   "metadata": {},
   "source": [
    "******************************************************************************************************"
   ]
  },
  {
   "cell_type": "markdown",
   "metadata": {},
   "source": [
    "**What is the total number of electoral bonds purchased by individuals or entities whose names contain the substring 'AGARWAL'?**"
   ]
  },
  {
   "cell_type": "code",
   "execution_count": 26,
   "metadata": {},
   "outputs": [],
   "source": [
    "buyers_name = bond_buyer[bond_buyer['Purchaser Name'].str.contains('AGARWAL')]"
   ]
  },
  {
   "cell_type": "code",
   "execution_count": 29,
   "metadata": {},
   "outputs": [
    {
     "data": {
      "text/plain": [
       "179082000"
      ]
     },
     "execution_count": 29,
     "metadata": {},
     "output_type": "execute_result"
    }
   ],
   "source": [
    "buyers_name['Denomination'].sum()"
   ]
  },
  {
   "cell_type": "markdown",
   "metadata": {},
   "source": [
    "******************************************************************************************************"
   ]
  },
  {
   "cell_type": "markdown",
   "metadata": {},
   "source": [
    "# 2 Encashment Data Analysis"
   ]
  },
  {
   "cell_type": "markdown",
   "metadata": {},
   "source": [
    "**Are there any missing names or information in the data?**"
   ]
  },
  {
   "cell_type": "code",
   "execution_count": 31,
   "metadata": {},
   "outputs": [
    {
     "data": {
      "text/plain": [
       "Date of\\n Encashment           0\n",
       "Name of the Political Party    0\n",
       "Denomination                   0\n",
       "dtype: int64"
      ]
     },
     "execution_count": 31,
     "metadata": {},
     "output_type": "execute_result"
    }
   ],
   "source": [
    "encash.isnull().sum()"
   ]
  },
  {
   "cell_type": "markdown",
   "metadata": {},
   "source": [
    "******************************************************************************************************"
   ]
  },
  {
   "cell_type": "markdown",
   "metadata": {},
   "source": [
    "**Total Unique Count of Political Party**"
   ]
  },
  {
   "cell_type": "code",
   "execution_count": 37,
   "metadata": {},
   "outputs": [],
   "source": [
    "total_parties = encash['Name of the Political Party'].unique().tolist()"
   ]
  },
  {
   "cell_type": "code",
   "execution_count": 38,
   "metadata": {},
   "outputs": [
    {
     "data": {
      "text/plain": [
       "27"
      ]
     },
     "execution_count": 38,
     "metadata": {},
     "output_type": "execute_result"
    }
   ],
   "source": [
    "len(total_parties)"
   ]
  },
  {
   "cell_type": "code",
   "execution_count": 39,
   "metadata": {},
   "outputs": [
    {
     "data": {
      "text/plain": [
       "['ALL INDIA ANNA DRAVIDA MUNNETRA KAZHAGAM',\n",
       " 'BHARAT RASHTRA SAMITHI',\n",
       " 'BHARTIYA JANTA PARTY',\n",
       " 'PRESIDENT, ALL INDIA CONGRESS COMMITTEE',\n",
       " 'SHIVSENA (POLITICAL PARTY)',\n",
       " 'TELUGU DESAM PARTY',\n",
       " 'YSR CONGRESS PARTY (YUVAJANA SRAMIKA R',\n",
       " 'DMK PARTY IN PARLIAMENT',\n",
       " 'JANATA DAL ( SECULAR )',\n",
       " 'NATIONALIST CONGRESS PARTY PARLIAMENT OF',\n",
       " 'ALL INDIA TRINAMOOL CONGRESS',\n",
       " 'BIHAR PRADESH JANTA DAL(UNITED)',\n",
       " 'RASTRIYA JANTA DAL',\n",
       " 'AAM AADMI PARTY',\n",
       " 'ADYAKSHA SAMAJVADI PARTY',\n",
       " 'SHIROMANI AKALI DAL',\n",
       " 'JHARKHAND MUKTI MORCHA',\n",
       " 'JAMMU AND KASHMIR NATIONAL CONFERENCE',\n",
       " 'BIJU JANATA DAL',\n",
       " 'SHIVSENA',\n",
       " 'NATIONALIST CONGRESS PARTY MAHARASHTRA PRADESH',\n",
       " 'GOA FORWARD PARTY',\n",
       " 'MAHARASHTRAWADI GOMNTAK PARTY',\n",
       " 'SIKKIM KRANTIKARI MORCHA',\n",
       " 'JANASENA PARTY',\n",
       " 'RASHTRIYA JANTA DAL',\n",
       " 'SIKKIM DEMOCRATIC FRONT']"
      ]
     },
     "execution_count": 39,
     "metadata": {},
     "output_type": "execute_result"
    }
   ],
   "source": [
    "total_parties"
   ]
  },
  {
   "cell_type": "markdown",
   "metadata": {},
   "source": [
    "******************************************************************************************************"
   ]
  },
  {
   "cell_type": "markdown",
   "metadata": {},
   "source": [
    "**How to change string into Datetime?**"
   ]
  },
  {
   "cell_type": "code",
   "execution_count": 40,
   "metadata": {},
   "outputs": [
    {
     "data": {
      "text/plain": [
       "Date of\\n Encashment           object\n",
       "Name of the Political Party    object\n",
       "Denomination                    int64\n",
       "dtype: object"
      ]
     },
     "execution_count": 40,
     "metadata": {},
     "output_type": "execute_result"
    }
   ],
   "source": [
    "encash.dtypes"
   ]
  },
  {
   "cell_type": "code",
   "execution_count": 45,
   "metadata": {},
   "outputs": [],
   "source": [
    "encash['Date of\\n Encashment'] = pd.to_datetime(encash['Date of\\n Encashment'])"
   ]
  },
  {
   "cell_type": "code",
   "execution_count": 46,
   "metadata": {},
   "outputs": [
    {
     "data": {
      "text/plain": [
       "Date of\\n Encashment           datetime64[ns]\n",
       "Name of the Political Party            object\n",
       "Denomination                            int64\n",
       "dtype: object"
      ]
     },
     "execution_count": 46,
     "metadata": {},
     "output_type": "execute_result"
    }
   ],
   "source": [
    "encash.dtypes"
   ]
  },
  {
   "cell_type": "markdown",
   "metadata": {},
   "source": [
    "******************************************************************************************************"
   ]
  },
  {
   "cell_type": "markdown",
   "metadata": {},
   "source": [
    "**Which political parties got the most donations?**"
   ]
  },
  {
   "cell_type": "code",
   "execution_count": 61,
   "metadata": {},
   "outputs": [
    {
     "data": {
      "text/html": [
       "<div>\n",
       "<style scoped>\n",
       "    .dataframe tbody tr th:only-of-type {\n",
       "        vertical-align: middle;\n",
       "    }\n",
       "\n",
       "    .dataframe tbody tr th {\n",
       "        vertical-align: top;\n",
       "    }\n",
       "\n",
       "    .dataframe thead th {\n",
       "        text-align: right;\n",
       "    }\n",
       "</style>\n",
       "<table border=\"1\" class=\"dataframe\">\n",
       "  <thead>\n",
       "    <tr style=\"text-align: right;\">\n",
       "      <th></th>\n",
       "      <th>Name of the Political Party</th>\n",
       "      <th>Denomination</th>\n",
       "    </tr>\n",
       "  </thead>\n",
       "  <tbody>\n",
       "    <tr>\n",
       "      <th>0</th>\n",
       "      <td>BHARTIYA JANTA PARTY</td>\n",
       "      <td>60605111000</td>\n",
       "    </tr>\n",
       "    <tr>\n",
       "      <th>1</th>\n",
       "      <td>ALL INDIA TRINAMOOL CONGRESS</td>\n",
       "      <td>16095314000</td>\n",
       "    </tr>\n",
       "    <tr>\n",
       "      <th>2</th>\n",
       "      <td>PRESIDENT, ALL INDIA CONGRESS COMMITTEE</td>\n",
       "      <td>14218655000</td>\n",
       "    </tr>\n",
       "    <tr>\n",
       "      <th>3</th>\n",
       "      <td>BHARAT RASHTRA SAMITHI</td>\n",
       "      <td>12147099000</td>\n",
       "    </tr>\n",
       "    <tr>\n",
       "      <th>4</th>\n",
       "      <td>BIJU JANATA DAL</td>\n",
       "      <td>7755000000</td>\n",
       "    </tr>\n",
       "  </tbody>\n",
       "</table>\n",
       "</div>"
      ],
      "text/plain": [
       "               Name of the Political Party  Denomination\n",
       "0                     BHARTIYA JANTA PARTY   60605111000\n",
       "1             ALL INDIA TRINAMOOL CONGRESS   16095314000\n",
       "2  PRESIDENT, ALL INDIA CONGRESS COMMITTEE   14218655000\n",
       "3                   BHARAT RASHTRA SAMITHI   12147099000\n",
       "4                          BIJU JANATA DAL    7755000000"
      ]
     },
     "execution_count": 61,
     "metadata": {},
     "output_type": "execute_result"
    }
   ],
   "source": [
    "encash.groupby('Name of the Political Party')['Denomination'].sum().sort_values(ascending=False).head().reset_index()"
   ]
  },
  {
   "cell_type": "markdown",
   "metadata": {},
   "source": [
    "******************************************************************************************************"
   ]
  },
  {
   "cell_type": "markdown",
   "metadata": {},
   "source": [
    "**On Which Dates Most Encashment Happens?**"
   ]
  },
  {
   "cell_type": "code",
   "execution_count": 78,
   "metadata": {},
   "outputs": [
    {
     "data": {
      "text/html": [
       "<div>\n",
       "<style scoped>\n",
       "    .dataframe tbody tr th:only-of-type {\n",
       "        vertical-align: middle;\n",
       "    }\n",
       "\n",
       "    .dataframe tbody tr th {\n",
       "        vertical-align: top;\n",
       "    }\n",
       "\n",
       "    .dataframe thead th {\n",
       "        text-align: right;\n",
       "    }\n",
       "</style>\n",
       "<table border=\"1\" class=\"dataframe\">\n",
       "  <thead>\n",
       "    <tr style=\"text-align: right;\">\n",
       "      <th></th>\n",
       "      <th>Date of Encashment</th>\n",
       "      <th>Denomination</th>\n",
       "    </tr>\n",
       "  </thead>\n",
       "  <tbody>\n",
       "    <tr>\n",
       "      <th>17</th>\n",
       "      <td>2019-05-10</td>\n",
       "      <td>4116500000</td>\n",
       "    </tr>\n",
       "    <tr>\n",
       "      <th>92</th>\n",
       "      <td>2022-01-10</td>\n",
       "      <td>3724600000</td>\n",
       "    </tr>\n",
       "    <tr>\n",
       "      <th>173</th>\n",
       "      <td>2023-07-13</td>\n",
       "      <td>3620000000</td>\n",
       "    </tr>\n",
       "    <tr>\n",
       "      <th>106</th>\n",
       "      <td>2022-04-12</td>\n",
       "      <td>3110000000</td>\n",
       "    </tr>\n",
       "    <tr>\n",
       "      <th>0</th>\n",
       "      <td>2019-04-12</td>\n",
       "      <td>2951500000</td>\n",
       "    </tr>\n",
       "  </tbody>\n",
       "</table>\n",
       "</div>"
      ],
      "text/plain": [
       "    Date of Encashment  Denomination\n",
       "17          2019-05-10    4116500000\n",
       "92          2022-01-10    3724600000\n",
       "173         2023-07-13    3620000000\n",
       "106         2022-04-12    3110000000\n",
       "0           2019-04-12    2951500000"
      ]
     },
     "execution_count": 78,
     "metadata": {},
     "output_type": "execute_result"
    }
   ],
   "source": [
    "encash.groupby('Date of Encashment')['Denomination'].sum().reset_index().sort_values(by='Denomination',ascending=False).head()"
   ]
  },
  {
   "cell_type": "markdown",
   "metadata": {},
   "source": [
    "******************************************************************************************************"
   ]
  },
  {
   "cell_type": "markdown",
   "metadata": {},
   "source": [
    "**Give Political Party Name Who Encash Most On 2019-05-10**"
   ]
  },
  {
   "cell_type": "code",
   "execution_count": 91,
   "metadata": {},
   "outputs": [
    {
     "data": {
      "text/html": [
       "<div>\n",
       "<style scoped>\n",
       "    .dataframe tbody tr th:only-of-type {\n",
       "        vertical-align: middle;\n",
       "    }\n",
       "\n",
       "    .dataframe tbody tr th {\n",
       "        vertical-align: top;\n",
       "    }\n",
       "\n",
       "    .dataframe thead th {\n",
       "        text-align: right;\n",
       "    }\n",
       "</style>\n",
       "<table border=\"1\" class=\"dataframe\">\n",
       "  <thead>\n",
       "    <tr style=\"text-align: right;\">\n",
       "      <th></th>\n",
       "      <th>Date of Encashment</th>\n",
       "      <th>Name of the Political Party</th>\n",
       "      <th>Denomination</th>\n",
       "    </tr>\n",
       "  </thead>\n",
       "  <tbody>\n",
       "    <tr>\n",
       "      <th>63</th>\n",
       "      <td>2019-05-10</td>\n",
       "      <td>BHARTIYA JANTA PARTY</td>\n",
       "      <td>3961500000</td>\n",
       "    </tr>\n",
       "    <tr>\n",
       "      <th>62</th>\n",
       "      <td>2019-05-10</td>\n",
       "      <td>ADYAKSHA SAMAJVADI PARTY</td>\n",
       "      <td>100000000</td>\n",
       "    </tr>\n",
       "    <tr>\n",
       "      <th>64</th>\n",
       "      <td>2019-05-10</td>\n",
       "      <td>PRESIDENT, ALL INDIA CONGRESS COMMITTEE</td>\n",
       "      <td>50000000</td>\n",
       "    </tr>\n",
       "    <tr>\n",
       "      <th>65</th>\n",
       "      <td>2019-05-10</td>\n",
       "      <td>SHIROMANI AKALI DAL</td>\n",
       "      <td>5000000</td>\n",
       "    </tr>\n",
       "  </tbody>\n",
       "</table>\n",
       "</div>"
      ],
      "text/plain": [
       "   Date of Encashment              Name of the Political Party  Denomination\n",
       "63         2019-05-10                     BHARTIYA JANTA PARTY    3961500000\n",
       "62         2019-05-10                 ADYAKSHA SAMAJVADI PARTY     100000000\n",
       "64         2019-05-10  PRESIDENT, ALL INDIA CONGRESS COMMITTEE      50000000\n",
       "65         2019-05-10                      SHIROMANI AKALI DAL       5000000"
      ]
     },
     "execution_count": 91,
     "metadata": {},
     "output_type": "execute_result"
    }
   ],
   "source": [
    "max_encashment = encash.groupby(['Date of Encashment','Name of the Political Party'])['Denomination'].sum().reset_index().sort_values(by='Denomination',ascending=False)\n",
    "max_encashment[max_encashment['Date of Encashment'].str.contains('2019-05-10')]"
   ]
  },
  {
   "cell_type": "markdown",
   "metadata": {},
   "source": [
    "******************************************************************************************************"
   ]
  },
  {
   "cell_type": "markdown",
   "metadata": {},
   "source": [
    "**Dates Most Encashment Happens visual representation**"
   ]
  },
  {
   "cell_type": "code",
   "execution_count": 94,
   "metadata": {},
   "outputs": [],
   "source": [
    "date_encash = encash.groupby('Date of Encashment')['Denomination'].sum().reset_index().sort_values(by='Denomination',ascending=False).head()"
   ]
  },
  {
   "cell_type": "code",
   "execution_count": 107,
   "metadata": {},
   "outputs": [],
   "source": [
    "x = date_encash['Date of Encashment']\n",
    "y = date_encash['Denomination']/10000000"
   ]
  },
  {
   "cell_type": "code",
   "execution_count": 114,
   "metadata": {},
   "outputs": [
    {
     "data": {
      "text/plain": [
       "Text(0.5, 0, '\\n Date')"
      ]
     },
     "execution_count": 114,
     "metadata": {},
     "output_type": "execute_result"
    },
    {
     "data": {
      "image/png": "[encoded data removed]",
      "text/plain": [
       "<Figure size 900x500 with 1 Axes>"
      ]
     },
     "metadata": {},
     "output_type": "display_data"
    }
   ],
   "source": [
    "plt.figure(figsize=(9,5))\n",
    "\n",
    "plt.bar(x,y)\n",
    "plt.title('Dates Most Encashment Happens')\n",
    "plt.ylabel('\\n Amount In Crores')\n",
    "plt.xlabel('\\n Date')"
   ]
  },
  {
   "cell_type": "code",
   "execution_count": null,
   "metadata": {},
   "outputs": [],
   "source": []
  },
  {
   "cell_type": "code",
   "execution_count": null,
   "metadata": {},
   "outputs": [],
   "source": []
  },
  {
   "cell_type": "code",
   "execution_count": null,
   "metadata": {},
   "outputs": [],
   "source": []
  },
  {
   "cell_type": "code",
   "execution_count": null,
   "metadata": {},
   "outputs": [],
   "source": []
  },
  {
   "cell_type": "code",
   "execution_count": null,
   "metadata": {},
   "outputs": [],
   "source": []
  },
  {
   "cell_type": "code",
   "execution_count": null,
   "metadata": {},
   "outputs": [],
   "source": []
  },
  {
   "cell_type": "code",
   "execution_count": null,
   "metadata": {},
   "outputs": [],
   "source": []
  },
  {
   "cell_type": "code",
   "execution_count": null,
   "metadata": {},
   "outputs": [],
   "source": []
  },
  {
   "cell_type": "code",
   "execution_count": null,
   "metadata": {},
   "outputs": [],
   "source": []
  }
 ],
 "metadata": {
  "kernelspec": {
   "display_name": "base",
   "language": "python",
   "name": "python3"
  },
  "language_info": {
   "codemirror_mode": {
    "name": "ipython",
    "version": 3
   },
   "file_extension": ".py",
   "mimetype": "text/x-python",
   "name": "python",
   "nbconvert_exporter": "python",
   "pygments_lexer": "ipython3",
   "version": "3.11.7"
  }
 },
 "nbformat": 4,
 "nbformat_minor": 2
}
